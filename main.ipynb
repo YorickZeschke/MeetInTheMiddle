{
 "cells": [
  {
   "cell_type": "markdown",
   "id": "f84f13ba",
   "metadata": {},
   "source": [
    "## Naive Approach\n",
    "Take a list of cities, select those that are \"between\" my friend and me (see \"bounding box\" below), sort by population and select the most relevant, calculate train travel times from both of us to each city, select the city where the **one of us arriving latest arrives as early as possible** (metric 1). \n",
    "\n",
    "## Obvious Limitations & Ideas For Improvement\n",
    "- distance matrix API function seems to have an upper limit for locations as input => we need to pre-filter locations to likely \n",
    "- stations or cities? \n",
    "  - if cities instead of stations used, this will cause inefficiency because the \"middle\" from the city dataset might be far away from the most easily accessible station in that city) \n",
    "  - stations have the disadvantage that it's harder to filter by population / connectedness => we should merge the two datasets below (e.g. by assigning each station to the city it's in)\n",
    "- what do we mean by \"minimising travelling effort\"? \n",
    "  - distance matrix API seems to provide durations only! This means we're **not actually** minimising latest arrival in (1) but longer travel time => current fix is to generate top 5 solutions and compare arrival times  "
   ]
  },
  {
   "cell_type": "code",
   "execution_count": 1,
   "id": "c2532284",
   "metadata": {},
   "outputs": [],
   "source": [
    "import os \n",
    "import gmaps, googlemaps\n",
    "import pandas as pd\n",
    "import numpy as np\n",
    "from datetime import datetime"
   ]
  },
  {
   "cell_type": "code",
   "execution_count": 2,
   "id": "5faee883",
   "metadata": {},
   "outputs": [],
   "source": [
    "client = googlemaps.Client(key=os.environ[\"GOOGLE_DISTMAT_APIKEY\"])\n",
    "gmaps.configure(api_key=os.environ[\"GOOGLE_DISTMAT_APIKEY\"])"
   ]
  },
  {
   "cell_type": "code",
   "execution_count": 3,
   "id": "71aca604",
   "metadata": {},
   "outputs": [],
   "source": [
    "def coords(place_name):  # don't run this too often — free queries are limited\n",
    "    geocoded = client.geocode(place_name)\n",
    "    if len(geocoded) > 1:\n",
    "        raise RuntimeError(f\"Multiple places found for query '{place_name}': \" + str(geocoded))\n",
    "    if len(geocoded) == 0: \n",
    "        raise RunetimeError(f\"No places found for query '{place_name}'!\")\n",
    "    return list(geocoded[0][\"geometry\"][\"location\"].values())"
   ]
  },
  {
   "cell_type": "code",
   "execution_count": 4,
   "id": "5993d43e",
   "metadata": {},
   "outputs": [],
   "source": [
    "def bounding_box(locations, padding=0.01):  # expects list of coordinate tuples\n",
    "    x = [l[0] for l in locations]; y = [l[1] for l in locations]\n",
    "    return [(min(x)-padding, min(y)-padding), [max(x)+padding, min(y)-padding], \n",
    "            (max(x)+padding, max(y)+padding), [min(x)-padding, max(y)+padding]]\n",
    "\n",
    "def in_box(loc, box):  # expects loc = [x,y], box = [bot left, bot right, top right, top left]\n",
    "    return box[0][0] <= loc[0] <= box[2][0] and box[0][1] <= loc[1] <= box[2][1]"
   ]
  },
  {
   "cell_type": "code",
   "execution_count": 5,
   "id": "209d4920",
   "metadata": {
    "scrolled": true
   },
   "outputs": [],
   "source": [
    "me = \"Bonn Hbf\"; friend = \"Amsterdam Centraal\"\n",
    "loc1 = coords(me); loc2 = coords(friend)"
   ]
  },
  {
   "cell_type": "code",
   "execution_count": 57,
   "id": "97ba6eef",
   "metadata": {},
   "outputs": [
    {
     "data": {
      "text/plain": [
       "'2023-11-25T08:30:00'"
      ]
     },
     "execution_count": 57,
     "metadata": {},
     "output_type": "execute_result"
    }
   ],
   "source": [
    "time_start = datetime(2023,11,25,8,30,0)\n",
    "time_start.isoformat()"
   ]
  },
  {
   "cell_type": "code",
   "execution_count": 58,
   "id": "c8c2fce0",
   "metadata": {},
   "outputs": [],
   "source": [
    "box = bounding_box([loc1,loc2], 0.25)"
   ]
  },
  {
   "cell_type": "markdown",
   "id": "a60f1fbd",
   "metadata": {},
   "source": [
    "European stations dataset from [Kaggle](https://www.kaggle.com/datasets/headsortails/train-stations-in-europe/)"
   ]
  },
  {
   "cell_type": "code",
   "execution_count": 59,
   "id": "76402803",
   "metadata": {},
   "outputs": [],
   "source": [
    "all_stations = pd.read_csv(\"train_stations_europe.csv\")\n",
    "relevant_stations = all_stations[all_stations.apply(lambda x: in_box([x[\"latitude\"],x[\"longitude\"]], box),axis=1)]\n",
    "station_locs = relevant_stations[[\"latitude\",\"longitude\"]].to_numpy()"
   ]
  },
  {
   "cell_type": "markdown",
   "id": "617a926b",
   "metadata": {},
   "source": [
    "World cities with more than 1000 inhabitants from [opendatasoft.com](https://public.opendatasoft.com/explore/dataset/geonames-all-cities-with-a-population-1000/export/?disjunctive.cou_name_en&sort=name)"
   ]
  },
  {
   "cell_type": "code",
   "execution_count": 60,
   "id": "1ca7f0a4",
   "metadata": {},
   "outputs": [
    {
     "name": "stderr",
     "output_type": "stream",
     "text": [
      "/var/folders/n4/1s67j3n10s74cqwhy7mxgbhr0000gn/T/ipykernel_14128/2056482694.py:3: SettingWithCopyWarning: \n",
      "A value is trying to be set on a copy of a slice from a DataFrame.\n",
      "Try using .loc[row_indexer,col_indexer] = value instead\n",
      "\n",
      "See the caveats in the documentation: https://pandas.pydata.org/pandas-docs/stable/user_guide/indexing.html#returning-a-view-versus-a-copy\n",
      "  relevant_cities[[\"lat\",\"lon\"]] = relevant_cities[\"Coordinates\"].str.split(\", \", expand=True).astype(float)\n",
      "/var/folders/n4/1s67j3n10s74cqwhy7mxgbhr0000gn/T/ipykernel_14128/2056482694.py:3: SettingWithCopyWarning: \n",
      "A value is trying to be set on a copy of a slice from a DataFrame.\n",
      "Try using .loc[row_indexer,col_indexer] = value instead\n",
      "\n",
      "See the caveats in the documentation: https://pandas.pydata.org/pandas-docs/stable/user_guide/indexing.html#returning-a-view-versus-a-copy\n",
      "  relevant_cities[[\"lat\",\"lon\"]] = relevant_cities[\"Coordinates\"].str.split(\", \", expand=True).astype(float)\n"
     ]
    }
   ],
   "source": [
    "all_cities = pd.read_csv(\"all_cities.csv\",sep=\";\")\n",
    "relevant_cities = all_cities[(all_cities[\"Country Code\"] == \"DE\") | (all_cities[\"Country Code\"] == \"NL\")]\n",
    "relevant_cities[[\"lat\",\"lon\"]] = relevant_cities[\"Coordinates\"].str.split(\", \", expand=True).astype(float)\n",
    "relevant_cities = relevant_cities[relevant_cities.apply(lambda x: in_box([x[\"lat\"],x[\"lon\"]],box),axis=1)]\n",
    "relevant_cities = relevant_cities.sort_values(by=\"Population\", ascending=False)  # TODO: don't hardcode  "
   ]
  },
  {
   "cell_type": "code",
   "execution_count": 61,
   "id": "157f02bb",
   "metadata": {},
   "outputs": [
    {
     "data": {
      "text/html": [
       "<div>\n",
       "<style scoped>\n",
       "    .dataframe tbody tr th:only-of-type {\n",
       "        vertical-align: middle;\n",
       "    }\n",
       "\n",
       "    .dataframe tbody tr th {\n",
       "        vertical-align: top;\n",
       "    }\n",
       "\n",
       "    .dataframe thead th {\n",
       "        text-align: right;\n",
       "    }\n",
       "</style>\n",
       "<table border=\"1\" class=\"dataframe\">\n",
       "  <thead>\n",
       "    <tr style=\"text-align: right;\">\n",
       "      <th></th>\n",
       "      <th>Name</th>\n",
       "      <th>Population</th>\n",
       "      <th>lat</th>\n",
       "      <th>lon</th>\n",
       "    </tr>\n",
       "  </thead>\n",
       "  <tbody>\n",
       "    <tr>\n",
       "      <th>2796</th>\n",
       "      <td>Köln</td>\n",
       "      <td>963395</td>\n",
       "      <td>50.93333</td>\n",
       "      <td>6.95000</td>\n",
       "    </tr>\n",
       "    <tr>\n",
       "      <th>56162</th>\n",
       "      <td>Amsterdam</td>\n",
       "      <td>741636</td>\n",
       "      <td>52.37403</td>\n",
       "      <td>4.88969</td>\n",
       "    </tr>\n",
       "    <tr>\n",
       "      <th>89389</th>\n",
       "      <td>Düsseldorf</td>\n",
       "      <td>620523</td>\n",
       "      <td>51.22172</td>\n",
       "      <td>6.77616</td>\n",
       "    </tr>\n",
       "    <tr>\n",
       "      <th>132330</th>\n",
       "      <td>Essen</td>\n",
       "      <td>593085</td>\n",
       "      <td>51.45657</td>\n",
       "      <td>7.01228</td>\n",
       "    </tr>\n",
       "    <tr>\n",
       "      <th>2845</th>\n",
       "      <td>Duisburg</td>\n",
       "      <td>504358</td>\n",
       "      <td>51.43247</td>\n",
       "      <td>6.76516</td>\n",
       "    </tr>\n",
       "    <tr>\n",
       "      <th>...</th>\n",
       "      <td>...</td>\n",
       "      <td>...</td>\n",
       "      <td>...</td>\n",
       "      <td>...</td>\n",
       "    </tr>\n",
       "    <tr>\n",
       "      <th>40601</th>\n",
       "      <td>Wülfrath</td>\n",
       "      <td>21003</td>\n",
       "      <td>51.28195</td>\n",
       "      <td>7.03821</td>\n",
       "    </tr>\n",
       "    <tr>\n",
       "      <th>10862</th>\n",
       "      <td>Geertruidenberg</td>\n",
       "      <td>20941</td>\n",
       "      <td>51.70167</td>\n",
       "      <td>4.85694</td>\n",
       "    </tr>\n",
       "    <tr>\n",
       "      <th>3143</th>\n",
       "      <td>Leerdam</td>\n",
       "      <td>20758</td>\n",
       "      <td>51.89333</td>\n",
       "      <td>5.09167</td>\n",
       "    </tr>\n",
       "    <tr>\n",
       "      <th>20129</th>\n",
       "      <td>Bockum</td>\n",
       "      <td>20617</td>\n",
       "      <td>51.34696</td>\n",
       "      <td>6.61589</td>\n",
       "    </tr>\n",
       "    <tr>\n",
       "      <th>97677</th>\n",
       "      <td>Stadtlohn</td>\n",
       "      <td>20602</td>\n",
       "      <td>51.99399</td>\n",
       "      <td>6.91918</td>\n",
       "    </tr>\n",
       "  </tbody>\n",
       "</table>\n",
       "<p>250 rows × 4 columns</p>\n",
       "</div>"
      ],
      "text/plain": [
       "                   Name  Population       lat      lon\n",
       "2796               Köln      963395  50.93333  6.95000\n",
       "56162         Amsterdam      741636  52.37403  4.88969\n",
       "89389        Düsseldorf      620523  51.22172  6.77616\n",
       "132330            Essen      593085  51.45657  7.01228\n",
       "2845           Duisburg      504358  51.43247  6.76516\n",
       "...                 ...         ...       ...      ...\n",
       "40601          Wülfrath       21003  51.28195  7.03821\n",
       "10862   Geertruidenberg       20941  51.70167  4.85694\n",
       "3143            Leerdam       20758  51.89333  5.09167\n",
       "20129            Bockum       20617  51.34696  6.61589\n",
       "97677         Stadtlohn       20602  51.99399  6.91918\n",
       "\n",
       "[250 rows x 4 columns]"
      ]
     },
     "execution_count": 61,
     "metadata": {},
     "output_type": "execute_result"
    }
   ],
   "source": [
    "relevant_cities = relevant_cities[:250]  # select top k by population \n",
    "city_locs = relevant_cities[[\"lat\",\"lon\"]].to_numpy()\n",
    "relevant_cities[[\"Name\",\"Population\",\"lat\",\"lon\"]]"
   ]
  },
  {
   "cell_type": "markdown",
   "id": "ce5426f3",
   "metadata": {},
   "source": [
    "Visualisation of all cities considered:"
   ]
  },
  {
   "cell_type": "code",
   "execution_count": 62,
   "id": "cee26256",
   "metadata": {},
   "outputs": [
    {
     "data": {
      "application/vnd.jupyter.widget-view+json": {
       "model_id": "d9d90e01042543cf819bc47a75f6f1e3",
       "version_major": 2,
       "version_minor": 0
      },
      "text/plain": [
       "Figure(layout=FigureLayout(height='420px'))"
      ]
     },
     "metadata": {},
     "output_type": "display_data"
    }
   ],
   "source": [
    "fig = gmaps.figure()\n",
    "fig.add_layer(gmaps.marker_layer([loc1,loc2]))\n",
    "#fig.add_layer(gmaps.symbol_layer(station_locs[:],fill_color='blue'))\n",
    "fig.add_layer(gmaps.symbol_layer(city_locs[:],fill_color='blue'))\n",
    "fig.add_layer(gmaps.drawing_layer(features=[\n",
    "    gmaps.Polygon(box, stroke_color=\"blue\", fill_color='blue')]))\n",
    "fig"
   ]
  },
  {
   "cell_type": "markdown",
   "id": "b1d090eb",
   "metadata": {},
   "source": [
    "Get distances from friend's and my location to every relevant city (**warning:** can cause many API calls, potentially limit city_locs before) "
   ]
  },
  {
   "cell_type": "code",
   "execution_count": 63,
   "id": "1e2bcf44",
   "metadata": {},
   "outputs": [],
   "source": [
    "chunk = 25  # seems to be maximum allowed (API error if larger)\n",
    "dist_mat_list = [client.distance_matrix([loc1,loc2], locations, departure_time=time_start, mode=\"transit\") \n",
    "                 for locations in np.array_split(city_locs, np.ceil(len(city_locs) / chunk))]"
   ]
  },
  {
   "cell_type": "code",
   "execution_count": 64,
   "id": "a52a5774",
   "metadata": {},
   "outputs": [],
   "source": [
    "columns = np.concatenate([dist_mat[\"destination_addresses\"] for dist_mat in dist_mat_list])\n",
    "time_mat = np.concatenate([np.array([[route[\"duration\"][\"value\"] if route[\"status\"] == \"OK\" else np.inf\n",
    "      for route in row[\"elements\"]] for row in dist_mat[\"rows\"]]) for dist_mat in dist_mat_list], axis=1)\n",
    "time_texts = np.concatenate([np.array([[route[\"duration\"][\"text\"] if route[\"status\"] == \"OK\" else \"impossible\"\n",
    "      for route in row[\"elements\"]] for row in dist_mat[\"rows\"]]) for dist_mat in dist_mat_list], axis=1)"
   ]
  },
  {
   "cell_type": "markdown",
   "id": "7158630c",
   "metadata": {},
   "source": [
    "Calculate best location using metric (1) from above (find 'num_res' best options):"
   ]
  },
  {
   "cell_type": "code",
   "execution_count": 65,
   "id": "82b556fc",
   "metadata": {},
   "outputs": [],
   "source": [
    "num_res = 10\n",
    "idx_k_best = np.argpartition(np.max(time_mat,axis=0), num_res)[:num_res]  \n",
    "addrs_best = columns[idx_k_best]"
   ]
  },
  {
   "cell_type": "code",
   "execution_count": 66,
   "id": "249dfba1",
   "metadata": {},
   "outputs": [
    {
     "data": {
      "text/plain": [
       "array([['1 hour 35 mins', '2 hours 45 mins'],\n",
       "       ['2 hours 24 mins', '2 hours 45 mins'],\n",
       "       ['1 hour 45 mins', '2 hours 41 mins'],\n",
       "       ['2 hours 42 mins', '2 hours 35 mins'],\n",
       "       ['2 hours 51 mins', '2 hours 46 mins'],\n",
       "       ['2 hours 21 mins', '2 hours 24 mins'],\n",
       "       ['2 hours 34 mins', '2 hours 5 mins'],\n",
       "       ['2 hours 52 mins', '2 hours 27 mins'],\n",
       "       ['1 hour 57 mins', '2 hours 58 mins'],\n",
       "       ['1 hour 21 mins', '2 hours 54 mins']], dtype='<U15')"
      ]
     },
     "execution_count": 66,
     "metadata": {},
     "output_type": "execute_result"
    }
   ],
   "source": [
    "time_texts[:,idx_k_best].T"
   ]
  },
  {
   "cell_type": "code",
   "execution_count": 67,
   "id": "64aff063",
   "metadata": {},
   "outputs": [],
   "source": [
    "locs_best = [coords(addr) for addr in addrs_best]\n",
    "my_routes = [client.directions(me, addr, departure_time=time_start, mode=\"transit\") for addr in addrs_best]\n",
    "friends_routes = [client.directions(friend, addr, departure_time=time_start, mode=\"transit\") for addr in addrs_best]"
   ]
  },
  {
   "cell_type": "markdown",
   "id": "2cacd8b7",
   "metadata": {},
   "source": [
    "**Sanity check:** distmat optimal duration should equal directions duration for the same time/location. As we can see, this is not the case. Unfortunately, it's hard to tell where the difference comes from without knowing what exactly the API does internally. "
   ]
  },
  {
   "cell_type": "code",
   "execution_count": 68,
   "id": "e2c218ea",
   "metadata": {
    "scrolled": true
   },
   "outputs": [
    {
     "data": {
      "text/plain": [
       "array([['1 hour 36 mins', '2 hours 45 mins', '10:06AM', '11:53AM'],\n",
       "       ['2 hours 23 mins', '2 hours 41 mins', '11:25AM', '11:25AM'],\n",
       "       ['1 hour 45 mins', '2 hours 41 mins', '10:29AM', '11:49AM'],\n",
       "       ['2 hours 42 mins', '2 hours 32 mins', '11:44AM', '11:16AM'],\n",
       "       ['2 hours 51 mins', '2 hours 44 mins', '11:53AM', '11:18AM'],\n",
       "       ['2 hours 21 mins', '2 hours 22 mins', '11:05AM', '11:06AM'],\n",
       "       ['2 hours 34 mins', '2 hours 2 mins', '11:36AM', '10:37AM'],\n",
       "       ['2 hours 52 mins', '2 hours 24 mins', '11:54AM', '10:59AM'],\n",
       "       ['1 hour 56 mins', '2 hours 55 mins', '10:40AM', '11:39AM'],\n",
       "       ['1 hour 21 mins', '2 hours 54 mins', '10:05AM', '12:01PM']],\n",
       "      dtype='<U15')"
      ]
     },
     "execution_count": 68,
     "metadata": {},
     "output_type": "execute_result"
    }
   ],
   "source": [
    "durations = np.array([[my_routes[i][0][\"legs\"][0][\"duration\"][\"text\"], \n",
    "           friends_routes[i][0][\"legs\"][0][\"duration\"][\"text\"], \n",
    "           my_routes[i][0][\"legs\"][-1][\"arrival_time\"][\"text\"].encode(\"ascii\",\"ignore\").decode(),\n",
    "           friends_routes[i][0][\"legs\"][-1][\"arrival_time\"][\"text\"].encode(\"ascii\",\"ignore\").decode()] \n",
    "        for i in range(num_res)])\n",
    "durations"
   ]
  },
  {
   "cell_type": "markdown",
   "id": "7e71f92b",
   "metadata": {},
   "source": [
    "**Note**: how even when durations are similar, arrival times can differ extremely! (see 'limitations' above). We now choose the best route by earliest arrival time."
   ]
  },
  {
   "cell_type": "code",
   "execution_count": 69,
   "id": "2f68da04",
   "metadata": {},
   "outputs": [
    {
     "data": {
      "text/plain": [
       "(5, 'Oude Markt 2, 5911 HG Venlo, Netherlands')"
      ]
     },
     "execution_count": 69,
     "metadata": {},
     "output_type": "execute_result"
    }
   ],
   "source": [
    "arrival_times = np.array([[my_routes[i][0][\"legs\"][-1][\"arrival_time\"][\"value\"], \n",
    "                           friends_routes[i][0][\"legs\"][-1][\"arrival_time\"][\"value\"]] for i in range(num_res)])\n",
    "idx_best = np.argmin(np.max(arrival_times,axis=1))\n",
    "loc_best = locs_best[idx_best]; addr_best = addrs_best[idx_best]\n",
    "my_route = my_routes[idx_best]; friends_route = friends_routes[idx_best]\n",
    "idx_best, addr_best"
   ]
  },
  {
   "cell_type": "code",
   "execution_count": 70,
   "id": "d87164cd",
   "metadata": {},
   "outputs": [],
   "source": [
    "def route_steps(route):\n",
    "    res = []\n",
    "    for step in route[\"steps\"]:\n",
    "        if \"transit_details\" in step:\n",
    "            d = step[\"transit_details\"]\n",
    "            line = d[\"line\"][\"name\"] if \"name\" in d[\"line\"] else d[\"line\"][\"short_name\"]\n",
    "            t1 = d[\"departure_time\"][\"text\"].encode(\"ascii\",\"ignore\").decode()\n",
    "            t2 = d[\"arrival_time\"][\"text\"].encode(\"ascii\",\"ignore\").decode()\n",
    "            res.append(f'Take the {line} ({d[\"headsign\"]}) at {t1} to {d[\"arrival_stop\"][\"name\"]}, arrive {t2}')\n",
    "        else: \n",
    "            res.append(step[\"html_instructions\"])\n",
    "            \n",
    "    return res"
   ]
  },
  {
   "cell_type": "code",
   "execution_count": 71,
   "id": "48edaf13",
   "metadata": {
    "scrolled": false
   },
   "outputs": [
    {
     "data": {
      "text/plain": [
       "('2023-11-25T08:30:00',\n",
       " ['Walk to Bonn Hbf',\n",
       "  'Take the IC2441 (Dortmund Hbf) at 8:46AM to Düsseldorf Central Station, arrive 9:32AM',\n",
       "  'Walk to Düsseldorf Central Station',\n",
       "  'Take the RE13 (Venlo) at 9:48AM to Venlo, arrive 10:56AM',\n",
       "  'Walk to Oude Markt 2, 5911 HG Venlo, Netherlands'],\n",
       " ['Walk to Amsterdam Centraal',\n",
       "  'Take the Enkhuizen <-> Heerlen IC3900 (Heerlen) at 8:45AM to Utrecht Centraal, arrive 9:11AM',\n",
       "  'Take the Schiphol Airport <-> Venlo IC3500 (Venlo) at 9:24AM to Venlo, arrive 10:55AM',\n",
       "  'Walk to Oude Markt 2, 5911 HG Venlo, Netherlands'],\n",
       " ['2 hours 21 mins', '2 hours 22 mins', '11:05AM', '11:06AM'])"
      ]
     },
     "execution_count": 71,
     "metadata": {},
     "output_type": "execute_result"
    }
   ],
   "source": [
    "result = (time_start.isoformat(), route_steps(my_route[0][\"legs\"][0]), \n",
    "          route_steps(friends_route[0][\"legs\"][0]),list(durations[idx_best]))\n",
    "result"
   ]
  },
  {
   "cell_type": "markdown",
   "id": "4c8e8f2b",
   "metadata": {},
   "source": [
    "**TODO:** plot my_route and friends_route directly - they might differ from gmaps.directions.Diretions"
   ]
  },
  {
   "cell_type": "code",
   "execution_count": 73,
   "id": "7213530f",
   "metadata": {},
   "outputs": [
    {
     "data": {
      "application/vnd.jupyter.widget-view+json": {
       "model_id": "db2ad24dc77a403f8fb3f6b6a8c5f1c7",
       "version_major": 2,
       "version_minor": 0
      },
      "text/plain": [
       "Figure(layout=FigureLayout(height='600px'))"
      ]
     },
     "metadata": {},
     "output_type": "display_data"
    }
   ],
   "source": [
    "fig = gmaps.figure(layout={\"height\":\"600px\"})\n",
    "fig.add_layer(gmaps.marker_layer([loc1,loc2,loc_best]))\n",
    "fig.add_layer(gmaps.directions.Directions(loc1, loc_best, departure_time=time_start, travel_mode='TRANSIT'))\n",
    "fig.add_layer(gmaps.directions.Directions(loc2, loc_best, departure_time=time_start, travel_mode='TRANSIT'))\n",
    "fig"
   ]
  },
  {
   "cell_type": "code",
   "execution_count": null,
   "id": "682223dc",
   "metadata": {
    "scrolled": true
   },
   "outputs": [],
   "source": []
  },
  {
   "cell_type": "code",
   "execution_count": null,
   "id": "bd2054d9",
   "metadata": {},
   "outputs": [],
   "source": []
  },
  {
   "cell_type": "code",
   "execution_count": null,
   "id": "fc134e7a",
   "metadata": {},
   "outputs": [],
   "source": []
  },
  {
   "cell_type": "code",
   "execution_count": null,
   "id": "dfc38a4b",
   "metadata": {},
   "outputs": [],
   "source": []
  }
 ],
 "metadata": {
  "kernelspec": {
   "display_name": "Python 3 (ipykernel)",
   "language": "python",
   "name": "python3"
  },
  "language_info": {
   "codemirror_mode": {
    "name": "ipython",
    "version": 3
   },
   "file_extension": ".py",
   "mimetype": "text/x-python",
   "name": "python",
   "nbconvert_exporter": "python",
   "pygments_lexer": "ipython3",
   "version": "3.9.12"
  }
 },
 "nbformat": 4,
 "nbformat_minor": 5
}
