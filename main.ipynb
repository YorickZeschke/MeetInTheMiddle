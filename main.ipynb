{
 "cells": [
  {
   "cell_type": "markdown",
   "id": "f84f13ba",
   "metadata": {},
   "source": [
    "# What Is This?\n",
    "Your friend and you want to meet at a location that's \"optimal\", i.e. minimises both of your effort in travelling there (see below for precise definitions). This program calculates candidate locations and routes to get there using the Google Maps API. \n",
    "\n",
    "**Note:** To Run the script yourself, you will need to create your own [account](https://developers.google.com/maps/documentation/distance-matrix) and generate an [API key](https://developers.google.com/maps/documentation/distance-matrix/get-api-key). Also keep in mind that you cannot send arbitrarily many free requests, see [pricing info](https://developers.google.com/maps/billing-and-pricing/overview) for details.\n",
    "\n",
    "## Naive Approach\n",
    "Take a list of cities, select those that are \"between\" my friend and me (see \"bounding box\" below), sort by population and select the most relevant, calculate train travel times from both of us to each city, select the city where the **one of us arriving latest arrives as early as possible** (metric 1). \n",
    "\n",
    "## Obvious Limitations & Ideas For Improvement\n",
    "- distance matrix API function seems to have an upper limit for locations as input => we need to pre-filter locations to likely \n",
    "- stations or cities? \n",
    "  - if cities instead of stations used, this will cause inefficiency because the \"middle\" from the city dataset might be far away from the most easily accessible station in that city) \n",
    "  - stations have the disadvantage that it's harder to filter by population / connectedness => we should merge the two datasets below (e.g. by assigning each station to the city it's in)\n",
    "- what do we mean by \"minimising travelling effort\"? \n",
    "  - distance matrix API seems to provide durations only! This means we're **not actually** minimising latest arrival in (1) but longer travel time => current fix is to generate top 5 solutions and compare arrival times  "
   ]
  },
  {
   "cell_type": "code",
   "execution_count": 1,
   "id": "c2532284",
   "metadata": {},
   "outputs": [],
   "source": [
    "import os \n",
    "import gmaps, googlemaps\n",
    "import pandas as pd\n",
    "import numpy as np\n",
    "from datetime import datetime"
   ]
  },
  {
   "cell_type": "code",
   "execution_count": 2,
   "id": "5faee883",
   "metadata": {},
   "outputs": [],
   "source": [
    "client = googlemaps.Client(key=os.environ[\"GOOGLE_DISTMAT_APIKEY\"])\n",
    "gmaps.configure(api_key=os.environ[\"GOOGLE_DISTMAT_APIKEY\"])"
   ]
  },
  {
   "cell_type": "code",
   "execution_count": 3,
   "id": "71aca604",
   "metadata": {},
   "outputs": [],
   "source": [
    "def coords(place_name):  # don't run this too often — free queries are limited\n",
    "    geocoded = client.geocode(place_name)\n",
    "    if len(geocoded) > 1:\n",
    "        raise RuntimeError(f\"Multiple places found for query '{place_name}': \" + str(geocoded))\n",
    "    if len(geocoded) == 0: \n",
    "        raise RunetimeError(f\"No places found for query '{place_name}'!\")\n",
    "    return list(geocoded[0][\"geometry\"][\"location\"].values())"
   ]
  },
  {
   "cell_type": "code",
   "execution_count": 4,
   "id": "5993d43e",
   "metadata": {},
   "outputs": [],
   "source": [
    "def bounding_box(locations, padding=0.01):  # expects list of coordinate tuples\n",
    "    x = [l[0] for l in locations]; y = [l[1] for l in locations]\n",
    "    return [(min(x)-padding, min(y)-padding), [max(x)+padding, min(y)-padding], \n",
    "            (max(x)+padding, max(y)+padding), [min(x)-padding, max(y)+padding]]\n",
    "\n",
    "def in_box(loc, box):  # expects loc = [x,y], box = [bot left, bot right, top right, top left]\n",
    "    return box[0][0] <= loc[0] <= box[2][0] and box[0][1] <= loc[1] <= box[2][1]"
   ]
  },
  {
   "cell_type": "code",
   "execution_count": 6,
   "id": "209d4920",
   "metadata": {
    "scrolled": true
   },
   "outputs": [],
   "source": [
    "me = \"Bonn Hbf\"; friend = \"Göttingen Hbf\"\n",
    "loc1 = coords(me); loc2 = coords(friend)"
   ]
  },
  {
   "cell_type": "code",
   "execution_count": 393,
   "id": "97ba6eef",
   "metadata": {},
   "outputs": [
    {
     "data": {
      "text/plain": [
       "'2023-11-25T09:00:00'"
      ]
     },
     "execution_count": 393,
     "metadata": {},
     "output_type": "execute_result"
    }
   ],
   "source": [
    "time_start = datetime(2023,11,25,9,0,0)\n",
    "time_start.isoformat()"
   ]
  },
  {
   "cell_type": "code",
   "execution_count": 262,
   "id": "c8c2fce0",
   "metadata": {},
   "outputs": [],
   "source": [
    "box = bounding_box([loc1,loc2], 0.25)"
   ]
  },
  {
   "cell_type": "markdown",
   "id": "a60f1fbd",
   "metadata": {},
   "source": [
    "European stations dataset from [Kaggle](https://www.kaggle.com/datasets/headsortails/train-stations-in-europe/)"
   ]
  },
  {
   "cell_type": "code",
   "execution_count": 263,
   "id": "76402803",
   "metadata": {},
   "outputs": [],
   "source": [
    "all_stations = pd.read_csv(\"train_stations_europe.csv\")\n",
    "relevant_stations = all_stations[all_stations.apply(lambda x: in_box([x[\"latitude\"],x[\"longitude\"]], box),axis=1)]\n",
    "station_locs = relevant_stations[[\"latitude\",\"longitude\"]].to_numpy()"
   ]
  },
  {
   "cell_type": "markdown",
   "id": "617a926b",
   "metadata": {},
   "source": [
    "World cities with more than 1000 inhabitants from [opendatasoft.com](https://public.opendatasoft.com/explore/dataset/geonames-all-cities-with-a-population-1000/export/?disjunctive.cou_name_en&sort=name)"
   ]
  },
  {
   "cell_type": "code",
   "execution_count": 349,
   "id": "1ca7f0a4",
   "metadata": {},
   "outputs": [
    {
     "name": "stderr",
     "output_type": "stream",
     "text": [
      "/var/folders/n4/1s67j3n10s74cqwhy7mxgbhr0000gn/T/ipykernel_12477/2056482694.py:3: SettingWithCopyWarning: \n",
      "A value is trying to be set on a copy of a slice from a DataFrame.\n",
      "Try using .loc[row_indexer,col_indexer] = value instead\n",
      "\n",
      "See the caveats in the documentation: https://pandas.pydata.org/pandas-docs/stable/user_guide/indexing.html#returning-a-view-versus-a-copy\n",
      "  relevant_cities[[\"lat\",\"lon\"]] = relevant_cities[\"Coordinates\"].str.split(\", \", expand=True).astype(float)\n",
      "/var/folders/n4/1s67j3n10s74cqwhy7mxgbhr0000gn/T/ipykernel_12477/2056482694.py:3: SettingWithCopyWarning: \n",
      "A value is trying to be set on a copy of a slice from a DataFrame.\n",
      "Try using .loc[row_indexer,col_indexer] = value instead\n",
      "\n",
      "See the caveats in the documentation: https://pandas.pydata.org/pandas-docs/stable/user_guide/indexing.html#returning-a-view-versus-a-copy\n",
      "  relevant_cities[[\"lat\",\"lon\"]] = relevant_cities[\"Coordinates\"].str.split(\", \", expand=True).astype(float)\n"
     ]
    }
   ],
   "source": [
    "all_cities = pd.read_csv(\"all_cities.csv\",sep=\";\")\n",
    "relevant_cities = all_cities[(all_cities[\"Country Code\"] == \"DE\") | (all_cities[\"Country Code\"] == \"NL\")]\n",
    "relevant_cities[[\"lat\",\"lon\"]] = relevant_cities[\"Coordinates\"].str.split(\", \", expand=True).astype(float)\n",
    "relevant_cities = relevant_cities[relevant_cities.apply(lambda x: in_box([x[\"lat\"],x[\"lon\"]],box),axis=1)]\n",
    "relevant_cities = relevant_cities.sort_values(by=\"Population\", ascending=False)  # TODO: don't hardcode  "
   ]
  },
  {
   "cell_type": "code",
   "execution_count": 350,
   "id": "157f02bb",
   "metadata": {},
   "outputs": [
    {
     "data": {
      "text/html": [
       "<div>\n",
       "<style scoped>\n",
       "    .dataframe tbody tr th:only-of-type {\n",
       "        vertical-align: middle;\n",
       "    }\n",
       "\n",
       "    .dataframe tbody tr th {\n",
       "        vertical-align: top;\n",
       "    }\n",
       "\n",
       "    .dataframe thead th {\n",
       "        text-align: right;\n",
       "    }\n",
       "</style>\n",
       "<table border=\"1\" class=\"dataframe\">\n",
       "  <thead>\n",
       "    <tr style=\"text-align: right;\">\n",
       "      <th></th>\n",
       "      <th>Name</th>\n",
       "      <th>Population</th>\n",
       "      <th>lat</th>\n",
       "      <th>lon</th>\n",
       "    </tr>\n",
       "  </thead>\n",
       "  <tbody>\n",
       "    <tr>\n",
       "      <th>2796</th>\n",
       "      <td>Köln</td>\n",
       "      <td>963395</td>\n",
       "      <td>50.93333</td>\n",
       "      <td>6.95000</td>\n",
       "    </tr>\n",
       "    <tr>\n",
       "      <th>132330</th>\n",
       "      <td>Essen</td>\n",
       "      <td>593085</td>\n",
       "      <td>51.45657</td>\n",
       "      <td>7.01228</td>\n",
       "    </tr>\n",
       "    <tr>\n",
       "      <th>36473</th>\n",
       "      <td>Dortmund</td>\n",
       "      <td>588462</td>\n",
       "      <td>51.51494</td>\n",
       "      <td>7.46600</td>\n",
       "    </tr>\n",
       "    <tr>\n",
       "      <th>4314</th>\n",
       "      <td>Bochum</td>\n",
       "      <td>385729</td>\n",
       "      <td>51.48165</td>\n",
       "      <td>7.21648</td>\n",
       "    </tr>\n",
       "    <tr>\n",
       "      <th>118853</th>\n",
       "      <td>Bochum-Hordel</td>\n",
       "      <td>380000</td>\n",
       "      <td>51.50168</td>\n",
       "      <td>7.17560</td>\n",
       "    </tr>\n",
       "    <tr>\n",
       "      <th>...</th>\n",
       "      <td>...</td>\n",
       "      <td>...</td>\n",
       "      <td>...</td>\n",
       "      <td>...</td>\n",
       "    </tr>\n",
       "    <tr>\n",
       "      <th>120007</th>\n",
       "      <td>Rath</td>\n",
       "      <td>11000</td>\n",
       "      <td>50.92379</td>\n",
       "      <td>7.09270</td>\n",
       "    </tr>\n",
       "    <tr>\n",
       "      <th>80609</th>\n",
       "      <td>Anröchte</td>\n",
       "      <td>10847</td>\n",
       "      <td>51.56667</td>\n",
       "      <td>8.33333</td>\n",
       "    </tr>\n",
       "    <tr>\n",
       "      <th>9267</th>\n",
       "      <td>Ruppichteroth</td>\n",
       "      <td>10749</td>\n",
       "      <td>50.84367</td>\n",
       "      <td>7.48409</td>\n",
       "    </tr>\n",
       "    <tr>\n",
       "      <th>130981</th>\n",
       "      <td>Reiskirchen</td>\n",
       "      <td>10734</td>\n",
       "      <td>50.60000</td>\n",
       "      <td>8.83333</td>\n",
       "    </tr>\n",
       "    <tr>\n",
       "      <th>85002</th>\n",
       "      <td>Ossendorf</td>\n",
       "      <td>10596</td>\n",
       "      <td>50.97059</td>\n",
       "      <td>6.90628</td>\n",
       "    </tr>\n",
       "  </tbody>\n",
       "</table>\n",
       "<p>250 rows × 4 columns</p>\n",
       "</div>"
      ],
      "text/plain": [
       "                 Name  Population       lat      lon\n",
       "2796             Köln      963395  50.93333  6.95000\n",
       "132330          Essen      593085  51.45657  7.01228\n",
       "36473        Dortmund      588462  51.51494  7.46600\n",
       "4314           Bochum      385729  51.48165  7.21648\n",
       "118853  Bochum-Hordel      380000  51.50168  7.17560\n",
       "...               ...         ...       ...      ...\n",
       "120007           Rath       11000  50.92379  7.09270\n",
       "80609        Anröchte       10847  51.56667  8.33333\n",
       "9267    Ruppichteroth       10749  50.84367  7.48409\n",
       "130981    Reiskirchen       10734  50.60000  8.83333\n",
       "85002       Ossendorf       10596  50.97059  6.90628\n",
       "\n",
       "[250 rows x 4 columns]"
      ]
     },
     "execution_count": 350,
     "metadata": {},
     "output_type": "execute_result"
    }
   ],
   "source": [
    "relevant_cities = relevant_cities[:250]  # select top k by population \n",
    "city_locs = relevant_cities[[\"lat\",\"lon\"]].to_numpy()\n",
    "relevant_cities[[\"Name\",\"Population\",\"lat\",\"lon\"]]"
   ]
  },
  {
   "cell_type": "markdown",
   "id": "ce5426f3",
   "metadata": {},
   "source": [
    "Visualisation of the considered cities:"
   ]
  },
  {
   "cell_type": "code",
   "execution_count": 351,
   "id": "cee26256",
   "metadata": {},
   "outputs": [
    {
     "data": {
      "application/vnd.jupyter.widget-view+json": {
       "model_id": "9e6157fa562b402285c3cfa62aea6a46",
       "version_major": 2,
       "version_minor": 0
      },
      "text/plain": [
       "Figure(layout=FigureLayout(height='420px'))"
      ]
     },
     "metadata": {},
     "output_type": "display_data"
    }
   ],
   "source": [
    "fig = gmaps.figure()\n",
    "fig.add_layer(gmaps.marker_layer([loc1,loc2]))\n",
    "#fig.add_layer(gmaps.symbol_layer(station_locs[:],fill_color='blue'))\n",
    "fig.add_layer(gmaps.symbol_layer(city_locs[:],fill_color='blue'))\n",
    "fig.add_layer(gmaps.drawing_layer(features=[\n",
    "    gmaps.Polygon(box, stroke_color=\"blue\", fill_color='blue')]))\n",
    "fig"
   ]
  },
  {
   "cell_type": "markdown",
   "id": "b1d090eb",
   "metadata": {},
   "source": [
    "Get distances from friend's and my location to every relevant city (**warning:** can cause many API calls, potentially limit city_locs before) "
   ]
  },
  {
   "cell_type": "code",
   "execution_count": 394,
   "id": "1e2bcf44",
   "metadata": {},
   "outputs": [],
   "source": [
    "chunk = 25  # seems to be maximum allowed (API error if larger)\n",
    "dist_mat_list = [client.distance_matrix([loc1,loc2], locations, departure_time=time_start, mode=\"transit\") \n",
    "                 for locations in np.array_split(city_locs, np.ceil(len(city_locs) / chunk))]"
   ]
  },
  {
   "cell_type": "code",
   "execution_count": 395,
   "id": "a52a5774",
   "metadata": {},
   "outputs": [],
   "source": [
    "columns = np.concatenate([dist_mat[\"destination_addresses\"] for dist_mat in dist_mat_list])\n",
    "time_mat = np.concatenate([np.array([[route[\"duration\"][\"value\"] if route[\"status\"] == \"OK\" else np.inf\n",
    "      for route in row[\"elements\"]] for row in dist_mat[\"rows\"]]) for dist_mat in dist_mat_list], axis=1)\n",
    "time_texts = np.concatenate([np.array([[route[\"duration\"][\"text\"] if route[\"status\"] == \"OK\" else \"impossible\"\n",
    "      for route in row[\"elements\"]] for row in dist_mat[\"rows\"]]) for dist_mat in dist_mat_list], axis=1)"
   ]
  },
  {
   "cell_type": "markdown",
   "id": "7158630c",
   "metadata": {},
   "source": [
    "Calculate best location using metric (1) from above (find 'num_res' best options):"
   ]
  },
  {
   "cell_type": "code",
   "execution_count": 396,
   "id": "82b556fc",
   "metadata": {},
   "outputs": [],
   "source": [
    "num_res = 5\n",
    "idx_k_best = np.argpartition(np.max(time_mat,axis=0), num_res)[:num_res]  \n",
    "addrs_best = columns[idx_k_best]"
   ]
  },
  {
   "cell_type": "code",
   "execution_count": 397,
   "id": "249dfba1",
   "metadata": {},
   "outputs": [
    {
     "data": {
      "text/plain": [
       "array([['2 hours 52 mins', '2 hours 48 mins'],\n",
       "       ['2 hours 55 mins', '2 hours 37 mins'],\n",
       "       ['2 hours 38 mins', '2 hours 52 mins'],\n",
       "       ['2 hours 57 mins', '2 hours 45 mins'],\n",
       "       ['2 hours 44 mins', '2 hours 37 mins']], dtype='<U16')"
      ]
     },
     "execution_count": 397,
     "metadata": {},
     "output_type": "execute_result"
    }
   ],
   "source": [
    "time_texts[:,idx_k_best].T"
   ]
  },
  {
   "cell_type": "code",
   "execution_count": 398,
   "id": "64aff063",
   "metadata": {},
   "outputs": [],
   "source": [
    "locs_best = [coords(addr) for addr in addrs_best]\n",
    "my_routes = [client.directions(me, addr, departure_time=time_start, mode=\"transit\") for addr in addrs_best]\n",
    "friends_routes = [client.directions(friend, addr, departure_time=time_start, mode=\"transit\") for addr in addrs_best]"
   ]
  },
  {
   "cell_type": "markdown",
   "id": "2cacd8b7",
   "metadata": {},
   "source": [
    "**Sanity check:** distmat optimal duration should equal directions duration for the same time/location. As we can see, this is not the case. Unfortunately, it's hard to tell where the difference comes from without knowing what exactly the API does internally. "
   ]
  },
  {
   "cell_type": "code",
   "execution_count": 401,
   "id": "73e06194",
   "metadata": {},
   "outputs": [
    {
     "data": {
      "text/plain": [
       "{'bounds': {'northeast': {'lat': 51.5006281, 'lng': 8.2833122},\n",
       "  'southwest': {'lat': 50.732008, 'lng': 6.9088053}},\n",
       " 'copyrights': 'Map data ©2023 GeoBasis-DE/BKG (©2009)',\n",
       " 'legs': [{'arrival_time': {'text': '12:23\\u202fPM',\n",
       "    'time_zone': 'Europe/Berlin',\n",
       "    'value': 1700911415},\n",
       "   'departure_time': {'text': '9:31\\u202fAM',\n",
       "    'time_zone': 'Europe/Berlin',\n",
       "    'value': 1700901080},\n",
       "   'distance': {'text': '183 km', 'value': 182752},\n",
       "   'duration': {'text': '2 hours 52 mins', 'value': 10335},\n",
       "   'end_address': 'Karolingerstraße 9A, 59872 Meschede, Germany',\n",
       "   'end_location': {'lat': 51.3501468, 'lng': 8.2833122},\n",
       "   'start_address': 'Bonn Hauptbahnhof, Am Hauptbahnhof 1, 53111 Bonn, Germany',\n",
       "   'start_location': {'lat': 50.7326926, 'lng': 7.0961231},\n",
       "   'steps': [{'distance': {'text': '0.1 km', 'value': 112},\n",
       "     'duration': {'text': '2 mins', 'value': 100},\n",
       "     'end_location': {'lat': 50.732008, 'lng': 7.097128},\n",
       "     'html_instructions': 'Walk to Bonn Hbf',\n",
       "     'polyline': {'points': 'ivstHw}hj@DYFe@P{@F]@EDYLFhAW'},\n",
       "     'start_location': {'lat': 50.7326926, 'lng': 7.0961231},\n",
       "     'steps': [{'distance': {'text': '71 m', 'value': 71},\n",
       "       'duration': {'text': '1 min', 'value': 58},\n",
       "       'end_location': {'lat': 50.7324509, 'lng': 7.097054099999999},\n",
       "       'html_instructions': 'Head <b>east</b> on <b>Am Hauptbahnhof</b> toward <b>Herwarthstraße</b><div style=\"font-size:0.9em\">Destination will be on the right</div>',\n",
       "       'polyline': {'points': 'ivstHw}hj@DYFe@P{@F]@EDY'},\n",
       "       'start_location': {'lat': 50.7326926, 'lng': 7.0961231},\n",
       "       'travel_mode': 'WALKING'},\n",
       "      {'distance': {'text': '41 m', 'value': 41},\n",
       "       'duration': {'text': '1 min', 'value': 42},\n",
       "       'end_location': {'lat': 50.732008, 'lng': 7.097128},\n",
       "       'html_instructions': 'Take entrance <span class=\"location\">Bonn Hbf</span>',\n",
       "       'polyline': {'points': 'ktstHicij@hAW'},\n",
       "       'start_location': {'lat': 50.732376, 'lng': 7.0970068},\n",
       "       'travel_mode': 'WALKING'}],\n",
       "     'travel_mode': 'WALKING'},\n",
       "    {'distance': {'text': '33.4 km', 'value': 33412},\n",
       "     'duration': {'text': '29 mins', 'value': 1740},\n",
       "     'end_location': {'lat': 50.9432141, 'lng': 6.9586017},\n",
       "     'html_instructions': 'Train towards Köln Messe/Deutz Bf',\n",
       "     'polyline': {'points': 'arstHadij@Mh@U`AYtA[tAk@lCI\\\\Qt@_@fB[vAaAhEa@lByAvGaAjEAFWjAYlAMn@a@nBG^A@UlAKn@Mp@Kn@M`AQnAADS|Ak@`Eu@bFALaBrLeArHuA~JgAzHCPsA~K[jCEZGb@?BAHETCPANABCTEZeA`IIt@m@vEo@tEADu@zFCXCRCFANCPOdA{@jG}@jG_Hdg@G\\\\aAbHCRcAlHgA`Ik@dECNe@dDIn@G^s@jFk@bEmArIWjBKr@CLWzAKt@A?It@c@~CKt@UjB?@kCpRKv@e@`Dq@bFe@~CGd@Kt@e@|Cc@~Ck@zD}B`PMx@CNu@jFc@pC]tBYlBOz@Oz@?@ERWrAKd@]`BUbAAF}A`GMb@Sp@oCzJm@fBsDbKgCrGeA~BINo@rAWh@INEHa@v@Wf@kAxBYh@Q\\\\EHaA|Am@`Ao@|@g@v@iBjCUVq@x@s@x@GHeD|DmBxBsBbCcAjAKLeCvCiD`EuBpC?BgGhHUXe@l@qAbBeB|BiA`BkBfCqDzFEFCD_DbFILQVmB~C[d@Yd@GJOVILkKvPgMnSu@jAy@rAOTOVSXa@n@[d@U\\\\y@rAgH~KkCbEA@EHMPuCxEe@v@eG|JwDjG}CdF[f@oB~CAByDdG_@l@gDlFQXABoDbGu@lA{@xAeZ`f@CDCD}GxKwInNc@p@g@x@gBtC_@n@S\\\\Yb@KN_BhCeH`Lu@jAQZa@r@mAtBU`@CDGHgAfBs@jAu@lAkHlLU`@A@]h@_@n@aPdWGJENSXiBvCeHfLABqAtBcC|D?@sAtBMRaA|AyA`C{BnDyInNoClE{EzH}E|HCBOVkDtFsElHKN}IxNm@`Au@nAYb@uBfDOXIJILGJA@ILOVqBdDOVCByEzHwBlDgGlJcBdCMPq@~@_BzBKLa@j@e@p@[`@?@IJQVw@bAEDWZQTe@l@W\\\\[\\\\gBxBu@z@yBlCa@f@m@p@a@d@KJiAnA}@bAGFEDEBGF_@\\\\e@d@ONWTmAdASP[ZGF}@|@CDWTMLURQP]VGF_@ZGDWR_BpAEDYPMJwA`ASNGD_@V_@XKHSNs@d@[TC@_@TSNg@ZIFUNe@V]PaAh@_@TA?cAd@a@RGBcA`@a@PIDy@\\\\w@XkC~@yBj@sB`@w@LIB}@Fa@D{@B]BE?Y@qAFM@y@BqADiDBcEBkFDcIFy@?M?kCBC?oCBgA@_DBoHCmC@wJ@E?c@?eEDs@@w@?gA@E?K?gA?eB?E?{AA{ODk@@yA?g@?yC@aE@cA@kA@cA?kA?o@?O?S@kBBG?wA@K?eC@sA@_A@cC@eB?cB@eB?cC@K?gA?M@Q?{A?s@A_@?cAAOAk@A}@EaAEaAEaAGsAOqDSCA[AEAMCEAMEECOEICQIC?KCGAUCu@IMAGAu@Ii@EEAi@Bc@@[BA?IAIAA?WEA?i@Gi@GWI_@Gs@ICAiCk@kCm@c@IKC}A]c@Ka@K_@Ia@Ky@QsA]w@U{@Uy@WCA]Ks@WcA_@s@YuBy@OEOI{@[yCiAAAyF}B]OUKuD}A{DeBWMa@Sa@S]O[QoAs@a@U}A_AIGoAu@GE}GgEeOmJkEmCaAm@eEiC_@WAASMKGOKOIWOIE_@WcBcA_@UgAq@SM}@i@gFeDi@_@gAo@u@c@EA]Sk@WIEQIEAIEIEGAAAKEAAOESIMEm@UWIe@O]Ma@Q_@Ok@Yk@Ya@S_@UyHyEGEcAo@[Q{AaAm\\\\uSAAkC_BeCwAKK]QaBeAYQgAs@wCkBgAu@cBkAaBqA_@Yk@a@s@k@_BmA]YIGoAaAOKaBiAa@[iNwIaAm@aAm@a@WaBeAECYQa@WaBcAa@WOKo@c@e@Y[UIGg@]g@_@y@m@gA}@wAmAQOg@c@q@k@[Yo@k@ECIGIICCCCGEUOa@[KEMI[M[MQEKCSGSCKCE?EAMAKAM?K?M?K?M@K@M@O@MBOBMBMBMDODMFMDKFKDKFKFKFIHKHKHIHKHKLIJKLKLINUZKPSZS^c@z@oA`CCBUd@ENa@dAgApC?@i@xAGJe@jAaAfCSh@Sd@CDM^CFk@xAQd@[r@Wj@_@t@OXILYh@QXQXILKLW\\\\QTCBYXWX[XYZMJMJ[X]TQLYRm@\\\\C@IDKBSJc@R_@Na@NODMD]J[H]H_@FG@WD[D[BUB[@[@g@BeA@Q?gA@kB@K?S@G?K?A?w@?E?eA@W?M?W@W?kB@Q?K?}A@ECIAYEM?iA@G?s@?[?]AQAYEOCMCUGWIICOGSKSMGEo@c@ECOKKGCCqCkBq@c@q@c@_@Wg@]MIUOu@g@}AeACAOKQKOKaAo@aBeAe@[sFuDg@[SOSOSOQQQQOQY]?AGG]g@g@s@OSMUg@_ASa@c@w@]q@Ue@OYEKa@cAIQ_AwBmE_KEOm@qAk@eAYg@GIg@cAWm@?A_@gAKa@K]G_@Io@Ge@?CEYAQ?GAOAWAc@?c@?g@?Q?S@e@?EBq@Bi@Bi@H_ALcBFk@NoB@SViCXwBLaALw@D[F[ZmAFYBEJc@?AHWFOLYLY@A`@q@Ze@JOLQ^c@JKXc@?ATO\\\\]TWLOLONQjAoABCTYf@k@PSb@g@d@g@LMHIv@_AHIb@YHKBCHIHKFGf@m@f@k@b@e@RSn@c@ROTSPQ\\\\_@^[d@c@BCLMl@q@xA}A\\\\_@dAgAMa@'},\n",
       "     'start_location': {'lat': 50.732008, 'lng': 7.097128},\n",
       "     'transit_details': {'arrival_stop': {'location': {'lat': 50.9432141,\n",
       "        'lng': 6.9586017},\n",
       "       'name': 'Cologne Central Station'},\n",
       "      'arrival_time': {'text': '10:02\\u202fAM',\n",
       "       'time_zone': 'Europe/Berlin',\n",
       "       'value': 1700902920},\n",
       "      'departure_stop': {'location': {'lat': 50.732008, 'lng': 7.097128},\n",
       "       'name': 'Bonn Hbf'},\n",
       "      'departure_time': {'text': '9:33\\u202fAM',\n",
       "       'time_zone': 'Europe/Berlin',\n",
       "       'value': 1700901180},\n",
       "      'headsign': 'Köln Messe/Deutz Bf',\n",
       "      'line': {'agencies': [{'name': 'Trans regio',\n",
       "         'phone': '011 49 261 98887070',\n",
       "         'url': 'http://www.trans-regio.de/'}],\n",
       "       'color': '#000000',\n",
       "       'short_name': 'RB26',\n",
       "       'text_color': '#ffffff',\n",
       "       'vehicle': {'icon': '//maps.gstatic.com/mapfiles/transit/iw2/6/rail2.png',\n",
       "        'name': 'Train',\n",
       "        'type': 'HEAVY_RAIL'}},\n",
       "      'num_stops': 7},\n",
       "     'travel_mode': 'TRANSIT'},\n",
       "    {'distance': {'text': '1 m', 'value': 0},\n",
       "     'duration': {'text': '1 min', 'value': 0},\n",
       "     'end_location': {'lat': 50.9432141, 'lng': 6.9586017},\n",
       "     'html_instructions': 'Walk to Cologne Central Station',\n",
       "     'polyline': {'points': 'az|uHgbni@'},\n",
       "     'start_location': {'lat': 50.9432141, 'lng': 6.9586017},\n",
       "     'steps': [{'distance': {'text': '1 m', 'value': 0},\n",
       "       'duration': {'text': '1 min', 'value': 0},\n",
       "       'end_location': {'lat': 50.9432141, 'lng': 6.9586017},\n",
       "       'polyline': {'points': 'az|uHgbni@'},\n",
       "       'start_location': {'lat': 50.9432141, 'lng': 6.9586017},\n",
       "       'travel_mode': 'WALKING'}],\n",
       "     'travel_mode': 'WALKING'},\n",
       "    {'distance': {'text': '71.9 km', 'value': 71930},\n",
       "     'duration': {'text': '49 mins', 'value': 2940},\n",
       "     'end_location': {'lat': 51.362747, 'lng': 7.460248999999999},\n",
       "     'html_instructions': 'High speed train towards Münster Hbf',\n",
       "     'polyline': {'points': 'az|uHgbni@@Dd@e@\\\\_@NOLOZ_@RSHKPUFKNQDIBCT_@BGFKJODKHML[FQHW@EFUF[BMJq@Dq@D_A@Q@a@?]@s@?Q?AAu@?W?W?y@@w@?y@?e@?kA?y@?w@?W?a@?w@?y@?w@?qB?k@?M@qB?y@?w@?o@?I?m@?I@y@?E?]@a@@a@A{A?A?Y@m@?EBoA?wA?m@DwC@cABiA?KB}@@s@?M@k@@]BY?A@[FeAHqALmCH}A@SPgDL{BHcBDy@Bg@@OBi@DcA@g@?Q?O?g@?K?m@?q@AQ?QAUAQAQ?AAQC[?GGw@Go@C]CUE[c@iDOoAs@yFIq@AAUcBOgAMy@Mw@Ou@Ou@WkAMc@Oi@Qm@Qk@Oc@Uq@Uo@Sg@Qa@EIYm@Wi@O]MWOWOWS[S]U]S[U[W[UYW]WY[[EEiA_AwA}ACCOMOOMOKKIIIIYYuBuBwDuCoAeA_BoAeCqBOMQOYSQMyAiAEE_As@eAy@g@_@QQc@a@CCIIMMY]W]OSU[Wc@k@cAUi@Wm@M[Uo@Og@Ok@GSKc@Qw@a@gBUcAKi@GYEOQ{@WmAGUOs@G[AEGa@CSEQAQAIE[QgBEw@AICY?KEk@Q{B?KEm@AIEk@?KIcAG}@Cg@ASG}@E_AEi@ASAMAEASCUCUASEUCSCUESESCSGUEUGUGSISGSIUISGQCEEIIQGMKSQYS[]i@KKMOMOUYOQSSWWOOKMc@e@k@i@][IIOKSOa@YMKc@[g@]EC{@k@e@[WQ_BeAwBwAq@c@}@q@[WWQIKGGKKKKQSMMIKKOOSMQIIIKGIIMGG][WWKKGEGICAIMKIKMMKOOIGKMQMQM]WQKIIGEIGIGGEKGIGGGWOQIYM?AIEUKWMIGQIYOKEm@[KGECMGMGIGGE_@QQKUMOM_@YEEGESQUU[[KMUWIIKMQQUWSQQSOKGGGECCKGOKQKSMSKc@Sm@Q]Ie@I_@EYC]Ae@?u@F_@D[Fe@Hs@Ps@RG@[Hg@Lc@L[Hq@Nm@P]FWHC@cB`@e@Le@JA?a@Na@Pa@ROHYNE@KFA@KFGDA@e@Z_@XSNEDQPYXIFONg@f@WT_@b@SPIHYXUTWVSR_@ZYT]T?@OJWNOJE@QHc@P}@\\\\YJSHQFUHMDQDSDUDUD[BO@S?U@GAK?G?OAMAQCOCOCUGSESIOECAQIKGGCMGKGCAOIQKWOUMUMWOYOSMSKOKYOYQSMMGGESKYQMGKGWOSKIEIEIE[OECWKIEME[MWGCAYISGWGGASEEAOCOASE[Ck@EA?a@CK?q@CI?c@?C?y@AIA_@?m@A[Ag@Aq@Ay@As@As@AA?c@AU?q@AK?W?]?w@AU?y@Aq@?G?qAAy@Ay@?}@AeAA}@?{@Ai@AoA?_BAaBA}AAyAAqAA}@?}AA}ACA?w@?{AAu@?M?k@AkAAW?g@A_A?{AAkAAyAAyAA}AA_BAmAAsA?WA_A?yAAiAA{@?SAwAAG?wAAI?q@?{AAA?sBA[AgAAeB?wAA}AAwAAuAAmAAyAAyAAyAAwA?wAA}AAgBAG?sBCyAA}@?eBAuA?sA@A?e@@eBF}ALyBR}BVuBTiBRqBTG?o@FiBRgALO@iBTgBRm@FaAJ{BVuBTm@HwHr@{CZiBRkAJ_@FO@QBmCZgBTC?qI~@iE`@sDb@}C\\\\m@Ha@Nw@H}C\\\\e@FsBTK@O@I@I@KBG?K@WBeBPI@sBT}@JiBRqFl@uANoFl@}Eh@uFl@wANkALOBE?WBQBYBYDwBTkBRgALa@DkBRSB[BC@C?E@WBA?C?OBS@]DE@cBPkALmD`@a@DcCV_E`@QBG@yFl@I@_AJi@Fa@FYDo@HA@uDj@WDqEr@u@LA?eEd@qC^q@HA?I@G@K@M@o@He@D]D]ByALYDa@B]D]D]Fq@JIB_@D{@HgCV_@B}@H]Ba@B}@D_Kj@gALy@HeALOBSBc@DkBRa@FkBRgALeAL}BVaAJqFj@MBC?IBgDZu@FeBRYDWB{AJK@C?qBBI@e@Cc@Ca@CcCQiG{@OCUCa@Cw@E}@GsAK_@C]CMA}@IyAKe@EIAE?A?mDUg@AcBEgAE}AM_CQgAIc@CKA_BIa@CAAiBG?Ac@CkBKc@EE?]AmAIG@[Ac@Ae@CQAc@Ec@CEA]AgAG[CuAC]?_A?G@gA@gABW@o@Bc@Ba@Bc@D]Bi@Bo@DwBTwBZwBZeDf@{KtAkGv@aFp@uEh@wM`BqAPiBT?@iALa@Dc@FK@y@JiBVA?sAPkFp@cBT_ANE@E?wBZ{Cb@y@J}BXmHt@yEl@g@Fc@Dk@HgANiBPQDqAPk@HYDc@JaALc@Jm@Nc@HMDIDcA^sAf@EBMDa@Pu@\\\\_Ab@E@KFi@VKFKFe@Vg@VWNSJw@b@uBnAiAr@m@^MFSLc@V_@Ti@\\\\WL?@KFo@^iBfAeHdEKF{BrAYPcAl@_Ah@kBhAgFzCGD}@d@g@Vg@VQFC@SHIDIBUJUHUFm@Pk@LGBc@HWFKBK@k@HYD_@Dk@F]DA?cAFy@@E?i@?iACm@C[Ca@C_@Ea@Gq@KOCmEu@wJ_BeAQc@IiB[c@GgASeAQc@Gc@ImASa@ICAg@IgASeAQgASkCe@gAQy@OsIyAaBY{@Mo@Kk@KUEWEGAGAKAEAKCKAKAyAW_AQGAoGcAuDu@qCa@mAUiCc@CAEA[EiF{@{B_@oB]MCw@Oc@GoAUMCIAiB[c@GeAQAAiBY]GwASy@M]Ek@IqC]s@KMAUCYCq@Ce@CM?kAMG?OAq@A{@IM?w@Ec@CsDQc@C]AOAIAc@Ak@CI?GAG?I?gAIa@CA?qCOwBK[A[CqBGq@IOAa@GI?{@KK?{@Gi@CaAEeACc@Cc@Ay@CKAWAE?c@Eg@Cc@Cc@Cc@Ci@CMAOAkKi@iEUEAS?SCI?UAE?wEQsEEU@e@?a@AaA?EBo@MWCC?_@EC?w@AIAi@AY?G?K?I@K?w@@Q@cADo@D_@BSBo@Jw@LC?UDq@Jc@Hc@Je@JYHG@a@JyK~CMDgUzGs@RMDUFa@LgAZcAZMDaEpAwDlAuJrCeAXKDKBmA^c@NE@[Jc@LeAZcAZaHtBWHMD}Br@]JiCv@E@gBh@eA\\\\mDdAwGrBiCv@E@eCt@a@NoDdAcAZc@LkA\\\\C@GBOD[JyAb@MDa@Lc@LIDWF_@HC@i@J[DcAPYDs@Hq@HM@e@De@Be@BI?_@@aA@U?K?c@AK?a@?[Ae@CcAESAOA?ASAA?MAy@Ia@Gi@IGAIAOCIASGi@M]IKE}@S_@K{@Yg@Qk@Ug@UCAaAc@i@WQIOI[OSMKGSM]Uq@e@}@m@]YIGGE][m@i@]]KIAAWSUWAAa@a@w@y@AAIIGIAA_BqBuAgBcAqAg@o@_AmAmCoDIMUYiCiDOSi@q@MQ]a@SW[e@S]Yc@{@cAk@aAg@}@Q[O[Ue@O]Yq@Sg@EIQe@Og@IQOg@Oi@Su@YkAGI?CCGEMAEOs@EMCUMq@UuAGe@Ig@CSEe@Iy@Gs@Ei@AIg@wIAOEcAAi@AYAu@AUCkA?MA_AA[?e@?y@@eA@kA?e@@sA@q@@[@oAFkDDyB@I@m@DgCB}A@U@aA?Y@Q?i@Am@A{@Ak@?SCgAAi@AYCm@AWAQA[Ey@AKEi@?CKoAAWAIGg@Go@CYGc@CYAGAQAOEi@Ew@AIKqAAG?IEe@Gy@K_BCQOwBKoAAKAMGs@IcAOwBG{@SaCGu@IsAAUCWEq@SsCAWCQMgB?GM_BMcCIaAC[Cc@I{@MqAIs@SiBMeAK_AM}@O}@M}@O}@AGIi@_@{BUoAIi@Kg@Kg@Kg@Kg@I_@K_@I_@I]K_@K_@K]K_@K]K]Us@Uq@Wo@Wq@Wo@Wk@Wk@]{@a@w@Ua@_@o@q@iAe@q@a@k@OQEEOSY][_@m@o@QS[]IIaAaA}@_As@u@]c@AA_@e@Y_@i@u@aA}A_A{AuBqDgAmBa@q@u@qAWe@_@s@Sa@Ug@OYISQa@q@_B_AyBaB}D}@wBSe@Qe@Yu@Qe@KY[_AWw@m@{B}@gDa@}Ag@gB_@uAYgA}@eDo@cCs@kCa@}Ak@qBs@oCW_AIUYcA]cA[cA_@eAYy@qBaGe@qA[aAg@yA_@iAM]So@Oa@Ww@]aAGQ[}@c@uAQc@Oe@EKk@eBK[Ws@S{@Ma@Sk@EMSm@Sk@Um@_BmEGQEQGQCKAEMe@Qy@EQ{@qCACg@_BK_@Uw@a@uAYeAe@cBK[_@sAEMAEEI?CEMMa@IUY{@Yy@[y@GQm@_BEKgAqCa@aAEK]{@e@kAQg@EKYw@K[KYIWM_@Uy@Uw@?AUy@Kg@EMQu@YqAAAUiAAEEQACAMACO}@EOAIIe@Iq@Ko@AOAIWiB?AAIKaAKqAAGEk@GeAAQEe@?KOwEGqBA[A]?AAu@Ay@CmBEqD?YAyACqBAoAEuC?KAm@CsCAW?w@EmBC}@Ac@GmAA[IuAAI?IMaBEq@CSEc@E[CYQwACUGc@CQGe@COIg@CMIc@COCOSiAEUI_@EQG]EU?CCKCOEQESCKIg@CGKe@AEMm@ACQm@Qo@ACUq@_@_AUi@Q]IOIQUc@U_@a@s@Ye@u@kA]c@ACk@y@c@o@Y_@qAaB}AmBi@q@g@o@u@cAEIe@u@i@_AQa@Sa@]_ACESm@So@Ok@e@mBc@aCO_AIq@AKEc@Em@Ek@Ei@Ck@GqAEwAAkAAeA?yB@sA@EBkBFwAFyAFoANuCN_DD_AReEZ_GDw@Dw@Dy@FcAP}CLsBD{@D{@FiABg@@_@Dw@?Y@I?S@i@@i@?i@?i@Ai@Am@Am@Ck@Cm@Ck@Eo@A]?AAUQ_EQkECq@Cq@Es@Eq@Gq@Go@Gq@Io@Io@Io@Mm@Km@Mm@Mm@Ok@GQGYK]M]K[M]K[O[MYMYOYOWOUOUOUOSQSOSa@g@c@e@sDoEu@_AY_@Ya@Ya@OUGKWa@Sa@MSa@u@eAmCQg@a@cA[}@EMUm@M[GQQc@Ww@M]GQMc@EKs@_CQm@GQIUOc@Ma@?A]gAMc@g@_BMg@GSESGSGYEYKi@Gg@Gi@EYAQGe@?CEk@Ei@AKUsDO{BAQASASASAg@?{@AS?gA?C?k@?W?W?WBw@R{GJwDBoA?aACgA?_@Cs@E}@GmAC]IsAKiASiBMcAWgBK{@WoBe@oDGc@W_B_@uBMs@Ms@]iBOu@AI]eBAAOs@GYIWQq@AE[eA[aAUo@Qg@m@mBISGSAE_AoCWw@Qe@{@iCsA{DkAiDGSi@}A[}@K_@Uu@c@{AMc@CMQq@EO_@qAc@cBCI}@iD}@eDGUGUI]oA}EOi@AGc@cBaAqDWeAc@cBQq@_@wACKQq@gAeEa@eB{@oD{@qDEQIa@s@wCKg@CIKe@c@uBMs@_@gBAC{@}Eu@aE}@wEKm@[}Ao@eDACq@wCgAqEMe@e@sBy@}DeAyFa@eCy@cEAEMm@cA{Ei@kCS}@a@aBa@{Aw@sCCIOe@e@_Bc@uAi@kBSo@M_@k@oBEOi@mBYgAc@cBQo@Qq@EO]sAQq@AEEOI[c@cBQq@Oq@ESK_@Ia@_@kBKg@SgAM{@CMU}AGa@]}Ca@aEe@eFEa@AKCUOcBOeB?GGw@CQI}@Gg@G]Gg@K_AM}ASsDASSiDYeFW{DEq@Ak@Aq@?kBCc@?_@Ei@AYAKIuAAUCYCk@Eo@q@eLC[Cg@GcAIeBMeBAYGkAEy@IgAGiA?CIeAEc@Ce@CUCYSeCC]Ge@UkCGi@Gc@[qCMy@]cCWuA[aBa@yB[aB{@oEoAcG?EYsA]aBSaACIAGEUEQKo@m@eDq@oDUiAMq@COMu@a@uBWqAoBqKc@aCG[O{@Mo@WqAQcAe@cC]kBSgAsBuKUiAUkAEUUmAOw@CMKm@Mk@EUCOOu@CS[_BG]e@_CEY_@mBES[cB]mBiAgGESI_@]mBWsA_A_FiAeGAEUkAEU]iBQ}@Y}ACIY_BMo@oAyGc@_Ca@eBa@sB_@gBm@{CKi@AEMm@Mm@e@gCm@}CiAaGaAkFu@yDs@sDSaACMEQGa@{@qEOu@cAsFCOg@sCACe@kDWiBMkACQAOIm@WyBmAaK_@uCM_ACe@AMCQCKQeAMaAEa@WsB?CEe@C]ACEmAC_@C_ACg@?IGcA?MC_@?_@Ao@?q@A}B?cC?eC?yA?wA?aB?yGCuC?[@iE?y@?y@?eB@K?y@BeF@sB@qB@iD@{@?C@u@@_H@uD?uA?y@?w@Ay@A[Ao@Aq@?SC_AC}@GyAK}BMiBGs@Gu@QiBe@iD[gB_AeFy@wC]iAMa@kC{Gk@yAm@yAo@sAWi@Yk@CE{AaDMY_AaCIYSo@c@yAe@kBc@aBMg@i@aCs@wEe@iEQoBQuBWgEASG_CAi@CiDA{@EoD?{GA}@GgDAg@EiACq@G_AQoCMoASmB?Ic@yCCGKm@]yAS}@a@eBSu@iBgG_@cASg@c@kA[s@EMMW{@gBi@y@U_@u@cAiAmAq@s@e@a@]Y][WUg@]GEy@m@CCw@e@g@WKEUIk@S{@Wq@SSEwAQaDW}D?Y@c@@C?g@HaAP_@Ha@HqBf@wBp@sBl@aCr@gDv@u@Dw@F{CPc@Bm@DYAq@?y@Ek@C_AISCq@Mq@Mw@Uc@Ma@Ma@MWIKEcBy@a@ScAg@A?uCsBkC{Bu@_Ay@aA{@cAq@{@a@o@s@mA[e@Ye@[e@s@mASa@ACWc@aAoBa@w@OYEKGI]q@q@sA{BmEq@sAq@qAq@qAYi@Wi@Ua@[o@Yi@Wi@q@sACEqBqESc@[q@m@yASe@Ws@Um@Qo@g@_BSo@Uu@Ok@_AeD{A_GcAgEi@_CWgAK[Uy@Mi@GWGUIa@g@uBAC_@aBm@iCeA}EaAyEuAwGc@yBmAcGe@mCQeAMs@Os@_AiF]sBGYg@oCGc@a@yBcBkJcCiMiB_KOu@[iBMu@]gBCQCQSgASeA[iBMu@iAmGwBgLmCiOOwAOeAKu@CQWyAMs@Y}AAKOs@[gB?AEWGW_@sBKi@Ms@m@gDu@aEOy@m@eDKm@[aBk@_DACe@kCc@eCKi@Ou@Ko@i@qCa@wB?E[cBES[aBCQIc@Ie@Ie@]kBCKQ_AKg@O_Ag@oCACe@gCc@gCs@wDSeA[gBY}ACSESAGQcAACOs@AAMg@[eBIe@EQo@qDg@sCi@mCk@gCk@iCMe@Ke@CKaA{EgAoF}CiO[mBKq@iB_Jc@uB]aBIg@GYCEMs@_@gBI_@COESGYCG}@cEoBeJ?C_BsHc@qBwCoNKa@CQGUMm@S_AKg@AG}@eEa@sBk@oCo@yC[{ACM_@gBaBqHOs@eA{ECKCICKAGc@qByEiUWoAUkAm@{CMq@CKCOi@_DWaBACi@sCQw@Mk@_@aBeAsDEOEMGMKY]u@EMIQSe@CGO[_@y@]u@]k@KSEIGIEI?ACAWc@s@oAYe@GKQ[Yg@kAoBCEKQAAKQS]S]MOGKU[MQOOw@{@QQKK?A{@_AAA{A{AMIWUGGAASOA?aB}@q@WUI[IkA]SGWGi@Oi@Um@Wa@UUMQI[Me@OGCwD}@{@Q{Be@cBSg@GGtB'},\n",
       "     'start_location': {'lat': 50.9432141, 'lng': 6.9586017},\n",
       "     'transit_details': {'arrival_stop': {'location': {'lat': 51.362747,\n",
       "        'lng': 7.460248999999999},\n",
       "       'name': 'Hagen Hbf'},\n",
       "      'arrival_time': {'text': '11:01\\u202fAM',\n",
       "       'time_zone': 'Europe/Berlin',\n",
       "       'value': 1700906460},\n",
       "      'departure_stop': {'location': {'lat': 50.9432141, 'lng': 6.9586017},\n",
       "       'name': 'Cologne Central Station'},\n",
       "      'departure_time': {'text': '10:12\\u202fAM',\n",
       "       'time_zone': 'Europe/Berlin',\n",
       "       'value': 1700903520},\n",
       "      'headsign': 'Münster Hbf',\n",
       "      'line': {'agencies': [{'name': 'DB Fernverkehr AG',\n",
       "         'url': 'https://www.bahn.de/'}],\n",
       "       'color': '#f01414',\n",
       "       'short_name': 'ICE206',\n",
       "       'text_color': '#ffffff',\n",
       "       'vehicle': {'icon': '//maps.gstatic.com/mapfiles/transit/iw2/6/rail2.png',\n",
       "        'local_icon': '//maps.gstatic.com/mapfiles/transit/iw2/6/de-db-ice-high-speed-trains.png',\n",
       "        'name': 'High speed train',\n",
       "        'type': 'HIGH_SPEED_TRAIN'}},\n",
       "      'num_stops': 3},\n",
       "     'travel_mode': 'TRANSIT'},\n",
       "    {'distance': {'text': '76.7 km', 'value': 76714},\n",
       "     'duration': {'text': '58 mins', 'value': 3480},\n",
       "     'end_location': {'lat': 51.3497901, 'lng': 8.2782263},\n",
       "     'html_instructions': 'Train towards Kassel-Wilhelmsh',\n",
       "     'polyline': {'points': 'exnxHqapl@?HOCcBI}@@{ABcA@]@eABiAB{@IoDBk@@sCCq@@oBHuBBk@@y@DeA@]Bw@Lu@BC@YJa@PQDYN_@NQJqAn@}@d@mA`@gA\\\\ODQDQBa@D[D[BQ@S@_E@o@?]?O@G?g@@G@U@UB_@Bu@JyAP]Dk@DiAHcCNU@K@k@Fg@HYDKBs@LqAXoAVeCh@C?aARYDaALO@G@SDc@HK@ODi@JkA^q@VQHGBYNWLYPKFc@Va@Xa@\\\\KHc@^a@^a@b@UTUVOPEDSXIJIL{A`CMRMRy@rAQXCFMRQTADa@l@ORQTORQRQPOP[VA@]XUPSLMHUNKFIDa@RULSFQFYH[HUDA?WDWDWBW@U@S@UAU?SC}AOgAWQEQG[MYM[QEAMIQKQMIGSQCCCCGGMMq@u@a@c@WUIKSQ_@]QOKK_@a@]_@}A{A]]eBaBOOEEKKQMQOQMQOc@[e@Ye@YWO]Q[Q]O]M]MUIWGUGWGUEWEUEWEo@Iq@Gq@Eq@Eg@AIAq@Ao@A}BCq@AC?G?UAE?K?O?m@AG?q@?I?M?a@?W?A?iFEO?O?SAi@?o@CM?i@Ca@C_@ECA]E_@Ik@Mg@K]KSGGE_Bm@MGs@W{CmAYMWMOIICWQKGKGcBeAmBqAiAcA{AwA[]e@g@]_@U_@kBsCiCsEKSMSKUKUWk@m@yAq@aBUk@Yq@Sg@CGyAwDa@gAUk@K]So@Oe@Oe@Mg@Mg@Kg@Mi@Ki@Kk@Kk@Ik@Ks@OkAIm@E]Gq@Eq@Gq@Es@Eq@?QEq@Cm@Ak@Cm@?U?c@Ak@?G@eA?Q?C?cABqB@m@@kA@_A@w@D_E@iC?y@@mB?EB_H?w@?ACkDDaH?o@?s@@Y@}@?O?y@Ay@AmA?C?e@Am@A[AQAm@Cm@Cm@C[C]C[C[C]C[COAKC[E[E[Ge@Mw@Mu@Ie@Ow@Ki@Os@Oq@Qs@Qq@Qq@[iAGSSo@gAuCIUSm@CIq@iBMa@Oc@ACk@cBA?m@iBCGKUKWO]y@eCSk@{@sCEOq@_Ce@eBW_AUcAMe@Oo@Su@Oo@Mm@Os@Ki@Oy@Ko@Ig@G[SyAE_@Q{AGm@QuBGy@Ek@Ce@Eq@EgAE{AAc@A_@CqAAmA?{A?yA?iABeA@w@@c@By@FgB@Q@MBk@Ba@BWDq@@O@SDe@H_A@QD_@BMBWFs@~@yJHy@XkClB}RLwAHcAHaAHeABi@@WBe@D_A@m@Bg@@y@@s@@m@?sA?gB?aACaAAy@?SAWAi@Cu@Aa@EaAIuAGkAAOKqAGw@KmAIw@Gg@EYCUCQCQAIE[Ku@?CO_AE]I_@Ga@Ig@EMSeAIa@COUcA]uAGWU}@Qq@Og@]mAUq@Yw@So@Qa@a@cACGQc@O[Qa@Q]Sc@ACQ]e@}@q@iAYg@CCKQIOg@w@uA_CKOkByCgBuC_H}Ky@uAcBmC_A}Ac@q@_BkCw@oAS[Q[QWs@iAc@u@q@gA}@{A]i@Wa@_A}Aq@gAcBoCOW_@k@U_@S]QWS]OUMSIMMS}AgCa@s@QYYg@S[S]m@gAg@y@gDcG_@o@oAwB]k@qBmDKS{CmFo@eAa@s@k@}@GIS]y@sA]k@e@u@]m@q@cAYa@k@u@AAe@k@UUOOMMMUUUWS_@WSOk@_@QKqDyBoBkAmAy@cBeAuAy@}@i@gAm@w@c@qAq@SKiDcBa@QOI]SKEAAg@[mBmAm@c@g@]_@[IIUUKKQS{@aAEG[a@UYSYW_@Ua@KOSa@Sa@Sa@EKO]CISg@Si@i@{AGQIQSo@So@Og@s@}BOk@U}@Qm@]wASy@UgAUeAKc@AGQ_A_@mBWwAG[SmAG[O_AIs@CKMcAMcAGa@MgAEe@AIGm@AKUgCCSGo@?GIw@KkAEa@?A?EOiBKyAKmAQ_C[sEAI]qEGs@Eg@AMOqBIsAAMGm@UsC_@kF[{DAC_@}EQqBOuBAIGc@CW]oEGu@_@cFCUSqCKqASaDAUCMAQ?AGw@YmDEq@e@eGQcCGw@WiDYkDAOEg@AICg@AC]eFOuB_@_F]oEAMGo@_@eFg@gG{@{KYmDOoBGw@U{CAK?AAM_@qEOoBq@kIKwAKuA?A?EGq@MkAMgAE]O_AIq@Ga@AOE]Ks@CKQwAUoAAICQCMGa@Im@O}@CMG_@AEIi@CKGc@SeACKEUMi@Ki@Mk@[yAQu@c@qBUcAGYQs@Mm@GUm@gCOs@YeAQs@I[_@}Aa@_Bi@mBQo@ACOm@So@W_AGOQk@IWGSIUq@{B]kAGS[cAcAeD}@yCs@}BaAcDUy@gAoDQi@k@oBIW}@wCg@aBY_ACICKM_@So@e@yAk@eBo@}Bm@mBi@eBe@yAyA{EgB{FWy@cBoF[eAgCiIsBwGe@yAa@wAUu@CKq@gCW}@c@yAe@aBcCwIACw@mCc@}AACOe@CKQo@w@sCIYGWQs@a@cBQq@Oo@AAe@aB]oA_AeDe@cBYcAEMCKQk@Qq@y@sCQk@Su@[gAwAaFOk@}AwFkByGW}@Mg@gBoGeAsDOg@Ok@cBcGcCwIy@qC]sAMc@I]K_@I]CIIa@WqAIa@Ic@G]AGEUYaBM{@Gg@Kq@Gq@KaAK_AC_@MmAAAMaBCSEk@C_@AWAIGgBAi@EcB?KUaW?UAW?g@?IGmHMyL?wBAkDG{ICqCCqECeFCyE?MGyFEqCEkDCgFAcC?}A?}@?A?y@@y@@kA@s@@a@@a@B_@@Q@EB[F{AF}@Do@FaAFo@`@{EPkBv@}H^yDn@oGHk@Fk@BS@GDWF]F]DU\\\\iBLs@Py@VeAJ[XgAHYNk@bC_J@Cn@iBv@{Bd@}AHYNc@Nk@DQNg@Ry@R{@DSLm@H]BQLm@BODYHe@PeABOL_A@ID]D]@MBODm@@OBa@?CDy@DmA@S?KBs@Bm@?_@?O@i@?cB@wA?sA@cF@}@?uD?o@@sB@mD?qBBuK?}@Bs@?y@ByD@sBBqB@uB@qBBkD@w@?WBy@?Q?e@@y@?y@?sB@sE?uD?wD?W?mE?w@AuBCeF?IIuGIgFAcAAm@G}GIiFCqBAo@KiHAa@CqACiBA{B?u@@iBBoA@o@?E@k@?IH_D@e@Be@Be@Be@Bc@De@HiAHiAJcA?Ez@{Kt@kJZ_EPyBPoBNoBB]Fk@B[Bg@Bw@@K?O@E@m@@E@m@@q@@m@?m@?i@?S?m@Ao@?AAm@?OAe@GgA?QGcAGcAC_@GeAIcACa@ScCS_C?ACOCYKmAQeBMkA]qCi@iEi@_E{@kHmAaKKu@m@iFaAwHAAYaCc@kDgCqSS_BoAwJyC{UIm@Gk@Ik@OwAAMKu@Gg@McA_@uCOmAQuAUmBe@sDQ}Ag@}DQsAu@iG_@sCeAqIWwBK{@WmBi@qECSIk@EYc@qDAIkBmOKy@M_AiAgJMgAAIc@gDSgBMaAy@yGACIs@a@cDMeA]qCm@}Ey@qGAMi@iE?CCMY}BaAsHGk@Ku@_@sCe@yDm@{E?Gq@qFCOAMSyAGm@eBmNyFod@cAoICUo@yE}AmMk@eFOyA[kC}@eGkAcIWiBWoBk@kEOcAg@iDa@yCKw@gBqMEUkBgN?AOeA}@gHOgAc@aDKu@M}@Km@G]?C[eCWmBoA_KeB_NiAqIsA}Jc@{@OsAUmBIw@McAGi@Ku@AKQcBCSQyAIm@iAmIc@cDWkBq@yE_@sCs@iFU_BMaAWmBe@aDq@yEWkBKu@Ku@QqACSKo@CWAGIk@Ik@E[CMKq@Ge@Ga@OeAWyACQEY?AAOESUeBWkBWkBKw@}@mGuA}Jo@wEWmBKu@Ik@CICW?EAKEYg@_EGc@eAkIOmAAC?AsAcKw@kGYsB_@{Cc@eDM_ASaBIy@Gg@AMGm@MyAAKEq@Eu@Cs@AQAQAq@AOCo@Aa@AkA?[HiFFiAFkABe@De@Bc@De@Dc@De@B[D]D]D[F[D]F[F[D[HYHg@Ja@H_@H]H]J_@H]BIFSJ[J]J[J]Tk@Tk@`@aA`@_A^s@?AR_@PYXe@b@o@FKr@}@\\\\c@TWPQPSPOPQRQPORODCJIRORM`@W`@U`@Sb@Sb@O^O`@M`@M`@I`@KTCRETCh@Ij@Ej@ERCbEWdAGd@CpBI`ACb@?\\\\ARAR?R@P?R@R@RBPBRBF@J@NB\\\\H^HNDNBRFVH@?l@TzB~@vJ~D`EbB~An@vAl@`@PrCjATJJDPFD@D@x@Tb@HVDPDZBl@FF@P@`@@`@@l@Ab@?@?`@A@?VCH?LAZE`@GFAJCXE@?DCJATG^K`@MHCb@Q@?FCXMXO@?TMDCXQ`@Yt@g@XUHE^[DEj@e@|AoAJKfB{Ax@q@f@e@p@o@HGr@s@d@e@BCPQTYV[`@i@`@i@FIVa@\\\\i@HKp@kAR]`@y@Ve@N]NWTi@Tg@Rc@Xw@Xw@Pc@Xy@Xy@?APe@Ni@Ng@^uALi@DMH_@@IR}@P}@Ji@VqAJo@F_@Jq@Ho@Fi@DWP{AN{ANoAZyCHw@RmBb@sDJeANoA`@yDNwAFo@BQP_BHm@@OL}@J{@RmAZqBJq@PkAz@}EDYP_A^mBLu@FUNw@BKf@aCLg@DUZwADMT_ATcADSXiAn@aCb@aBFQTy@FUJYRq@Ty@La@`@kAHUFUr@wBZy@d@oADGN]Xq@f@eAh@gANYXg@P[d@w@\\\\i@d@s@JKT[T[JMNSLMJONONQd@c@d@e@f@e@JKf@c@`@[DEXULILKb@[f@[d@YLGrAs@XKJGTIFEl@Sl@S\\\\M^IJCXIFA\\\\Id@ILC~@Op@Gt@GVCp@C`@Ab@?b@?xFAB?xDA`D?|A?L?b@?j@@t@?bAA|CEz@Ap@E^?VAl@A^Ab@Eb@CBA\\\\Cb@IPCfAMbAOj@MJCTGXIlA[n@SZIjAc@JCVKXMFCVMj@YZMZQTKTMDCf@[tBwA@A\\\\Y`@]b@_@`@[v@q@XW`@_@Z_@^_@JMPQRUHKNQb@g@X]\\\\c@^e@^g@JQFGzA{Bj@aA`@u@DIj@eAXg@`@u@`@w@FMLWHSBGTg@\\\\{@JYZw@HSJWNc@Vq@Ri@BILc@Ng@DKPm@@APo@BINg@ZiAFWVcAJ_@@GPw@h@_CVkAR_AH[bByHtAmG\\\\wAVmAFW`@gB^eBJc@BOBMJe@n@qC@E`@gBTgA|@uDj@aCnEyR`BeHR}@h@cCDYJc@n@oCZuAR{@Pw@|@uDx@qDx@sDVgAj@cCj@kCbAgEz@aE^aBNw@@E@EHa@TiABGF[Jg@@Kn@{C@EJi@?CDYFWNw@VoA@G@EDU?C\\\\iBLs@\\\\iBXcBLs@ZeB^wBLq@\\\\iBDUHc@Ns@?ALk@@E@C@GLe@XcAH[Ne@DMHWTq@HSL[Pc@Pc@`@_AVk@@AFOR_@DKLWFIv@_BlAaCZm@HO@C@CZm@JSN[Zm@FOpAgCLW`AqBdAwBHM\\\\u@Vg@N_@BGPc@Rc@L_@N]@GFQHUHSJY@ABKLa@@GNg@HSFUDODOHYTy@DMJa@BM?CTaABGP{@DO?CHa@d@}B\\\\aBr@gDZ{ATkAR_AFY@IJg@Jg@@CDWBQLw@@G?AJo@Ly@Hq@Hq@@CDa@BQD[Fg@?CFe@h@iFPaBLmABWBQH}@Fg@BMJcAHi@?GBOJy@?EDUBSDYPaAJo@@GBOPw@BO@ILi@Lo@BKHY@GPq@p@eCH_@b@cBDKJe@Ty@Li@BGJ_@BIv@qC?APo@Pq@v@sCPq@l@{BHWv@uCPo@DS\\\\oAFUH[Ro@Pq@Ja@DOrByHJa@BILc@Ps@Rq@Pq@Nk@@Et@sCLa@DODSJ]?A^qARq@T}@L_@VaAHYHW@EJYDMFOL]N]Pe@JU@ERe@LWRg@h@oANa@dAcCRe@BEl@wAl@wALYj@sA`@cABE`A}B?Cl@sAXo@Rg@b@aAnA{CHQVk@HSBCd@oARa@Vq@^y@DKf@kAJUJUf@mADK^{@LYVk@@ATi@p@_Bh@qATi@t@iBd@iAt@cBN_@l@uAbA{BBG`@{@Xm@Ra@^q@`AeBNWhAkBn@eAP[Zk@R]BEZe@R]JOR_@HMDEf@y@JSt@mAp@kAbAcBLQNUT]FIFODIP_@P]HSVk@FSL_@FSDOJa@@EFYHa@?AFWD]@CBOFa@Ju@@KD]BSFu@B_@@S@[?K@I?G@W?M@i@@Q?I?E?g@?K?s@?K?M?U?S?AA[A[CWCm@?IAICa@Ea@Ea@?EGi@AGMaAIi@?AIe@CSIm@Iq@AGACe@uCG_@Oy@Ig@Im@?AMw@E_@kA}H]}BAG?CAICMCOKs@CKUiBa@oCG_@O_Aw@qFQeAKu@E[Ko@eAmHa@oCWgBKw@AOCUCWCUAQAQCc@Ci@Cs@C}@Aq@AY?cA?S?A?S?Q?k@Bm@@m@B]B]Bg@@K@QFm@BYD[BWBSF_@Hi@VmA^cB?ABMBIJc@BKDS@APy@Lc@H[J[Pi@Na@L[Ti@Xm@R[DKHI@EBEb@k@X]^e@bBoBtBcC`@e@DEDE^c@~BoCNQjAsAPSrA}ArA}A~@gAfAqA|@eAJMBCX_@Za@FKZa@x@iAZg@HK`@o@Ta@NU@Cl@gAPYDIFKVi@Vi@^w@Zu@Tk@DIVs@l@cBXy@\\\\iAX{@Ng@Po@XgA\\\\uALi@BMDSFUNu@Ji@ZeBV_B?AJm@Jq@J{@V{B@MDa@Fi@D_@B]@E@M@O^{En@oJTiDB]Fw@Fw@Dy@HkA@GBa@TgDNiCHeAJ{A@EFw@NqBLgBH_A?CH}@Hs@NqAJq@b@iCd@uB`@aB@CPk@\\\\eAJWRm@?Aj@{A?ATk@p@mBL[Rk@Vm@N_@FQRi@v@wB^_ARm@Tm@BGz@}B@CTk@^}@d@eA@EP]\\\\o@N[FKVe@nAyBr@oAP[p@mAHM\\\\k@rBkDVi@Tc@NYb@{@\\\\s@f@mAL]Rk@T{@Jc@Ps@?AToAHg@Hw@Hs@Dq@F_AB[Bm@@yA@u@Aq@AoACi@G_AC_@Gu@QuAGe@Mw@Ia@Kk@IW[mAY_Ak@wAe@aAYe@KOYe@QUQSMOOQi@i@SQYUe@YUOa@SUI[Mk@QSEa@Ie@GUEuC]EAy@EkAMGAuAMq@GwASYG_@IOEc@Q_@Me@Ua@YUQ_@[WWe@e@a@g@[e@CEa@q@a@w@Ys@Yu@Ww@Ka@GQMk@GUCQCGKk@EUE]ACEWEc@McACa@CMMaBAMCi@?EEgAAi@?YAY?W@Y?G?QBw@@e@@A@_@@SB[Dq@Fg@@OFg@Fc@Jm@Jk@Hc@@GDSDU^eB@Ir@yCLg@@K|@aEJa@TcANs@b@uBJc@Ns@z@_EBM`AmEPw@Lo@^eBv@qDF[^gB^eB`AuE\\\\aBBMZwAR_ANq@@G^}Ad@{B@C@CLi@Nk@XcAPk@FUV{@n@gBNa@Tk@Pc@FMHUJS`@w@Xk@Zi@FIZe@@E^c@JONOLONOVUFEVQb@[`@UHEPI\\\\Od@OHEPEbASzAQ`@CPA@?P@R?J?N?|@BL@hBDf@@fABbABt@BbCHpBDx@DF?T?F?TATAl@C\\\\CXCVEVEFCZGPGRGPIHCTM`@S@AVQRQPORSDEBCLOZ_@Xa@PU\\\\e@P[PWLSNWJSP_@zAcDx@gBL[^y@FMRc@FILU?AR]T[LS\\\\c@X_@PSBEh@g@j@c@LKHGh@E\\\\EdAKj@G~@K\\\\ChAMB?pAMpBSvBUD?b@Gd@ELAt@I@?`@ElBSb@EzBU`@ELAP?PAB?ZCB?`@AD?FAF?tAEtAGD?@?TA@?F?t@EnAIn@EVAFAXEVG^IDA`@KVILGPGNIXMVQRMROPQROPQTURWZ_@b@k@Za@Xc@V_@HM\\\\i@R]~@yAZe@vBcDBEr@gAJO`@m@dCsD|A}BDGZg@PYb@o@d@s@d@s@Zc@`AyAbBgC~AcClAkBh@y@FIT]p@aApBwCnByCVa@@CFGZe@fAaBNQP[JMHMHMJMhAcBFKLSl@}@`@k@h@w@HMNU\\\\m@BELUd@{@R_@Ve@NYTg@Tg@JWZs@Xo@f@mAd@mARg@N_@z@yBbAoCp@oBf@qABGDMnBeFnAeDFQx@uBxAwDjAwCRe@|@{BL_@l@}AHUx@uBXu@v@sBFQxB}Fr@mBTo@Pk@To@JWFSP{@FYJg@Hi@Jw@Ly@Fi@D[Dk@Fu@@U@a@Bi@@_@@}@@{@?M?O?q@?s@?q@AOAoAA]As@?EAYAkAAkACeCAy@AY?qBCaDEyFEoBAs@E_DEuBEcDAQCkB?U?S?k@I_G?CGaG?]?o@@_CD_C@g@@WBiAFmABs@FgBFiBJeDBWBq@BiAPcE@WDw@@IH{BJwCBw@v@wVDgAFgA@e@@c@?s@?A?e@?c@AQ?a@Aa@Aa@Ca@Ca@Em@Go@E]E_@E_@?CIa@Gc@Ia@Ia@K]Om@Wy@EOCIEMWs@O]ISMUMSS_@U]ACm@}@a@i@?AQU?Ae@q@Ya@]c@gAsA_@e@_@g@SYW]CEg@s@k@{@i@w@Yg@OYg@kAGKIYQc@Oa@ACOc@Qe@Mg@IWIYGWIYGYGYGYEYG[EYKq@UeBGe@?EIq@Gs@Ea@Cc@Cc@AWCi@ASA[?m@AqB?q@?q@@q@@q@@q@?ABo@Bq@Bq@Dq@Fo@Fq@Fo@Fo@@AFm@DUDWDWDUFa@No@Lm@Ha@XkA@E|AeH`AkE|@aEBIb@mBBIXsA@ALq@BGLi@@GHe@FY@KFc@Fa@@GB[@KFq@Dc@Ba@?EB]@O@c@By@?W?G@_@?m@Ak@Ak@A_A?CAUIkEM{FKcEQeJEmAOeICs@CeAOqGK{EEmBCqAAw@A[?k@?a@?I@i@?k@@k@@m@Bo@Bo@Bm@Dm@Fu@Fu@`@mEDo@|@eKn@oHNwAX}COG'},\n",
       "     'start_location': {'lat': 51.362747, 'lng': 7.460248999999999},\n",
       "     'transit_details': {'arrival_stop': {'location': {'lat': 51.3497901,\n",
       "        'lng': 8.2782263},\n",
       "       'name': 'Meschede'},\n",
       "      'arrival_time': {'text': '12:15\\u202fPM',\n",
       "       'time_zone': 'Europe/Berlin',\n",
       "       'value': 1700910900},\n",
       "      'departure_stop': {'location': {'lat': 51.362747,\n",
       "        'lng': 7.460248999999999},\n",
       "       'name': 'Hagen Hbf'},\n",
       "      'departure_time': {'text': '11:17\\u202fAM',\n",
       "       'time_zone': 'Europe/Berlin',\n",
       "       'value': 1700907420},\n",
       "      'headsign': 'Kassel-Wilhelmsh',\n",
       "      'line': {'agencies': [{'name': 'DB Regio AG NRW',\n",
       "         'url': 'http://www.dbregio.de/db_regio/view/index.shtml'}],\n",
       "       'short_name': 'RE17',\n",
       "       'vehicle': {'icon': '//maps.gstatic.com/mapfiles/transit/iw2/6/rail2.png',\n",
       "        'name': 'Train',\n",
       "        'type': 'HEAVY_RAIL'}},\n",
       "      'num_stops': 8,\n",
       "      'trip_short_name': '(4765)'},\n",
       "     'travel_mode': 'TRANSIT'},\n",
       "    {'distance': {'text': '0.6 km', 'value': 584},\n",
       "     'duration': {'text': '9 mins', 'value': 515},\n",
       "     'end_location': {'lat': 51.3501468, 'lng': 8.2833122},\n",
       "     'html_instructions': 'Walk to Karolingerstraße 9A, 59872 Meschede, Germany',\n",
       "     'polyline': {'points': '{elxHqyoq@ZFVD?CDa@j@sG@I@M`@qF@SUWc@OM?I?o@T{@`@?a@SLa@[MEEAGAO?EAICMELs@DWF]NaAB_@@WDc@@M?G@M?_@@I?k@?A'},\n",
       "     'start_location': {'lat': 51.3495842, 'lng': 8.2781672},\n",
       "     'steps': [{'distance': {'text': '30 m', 'value': 30},\n",
       "       'duration': {'text': '1 min', 'value': 26},\n",
       "       'end_location': {'lat': 51.3493225, 'lng': 8.278096099999999},\n",
       "       'html_instructions': 'Head <b>south</b> toward <b>Le-Puy-Straße</b>',\n",
       "       'polyline': {'points': '{elxHqyoq@ZFVD'},\n",
       "       'start_location': {'lat': 51.3495842, 'lng': 8.2781672},\n",
       "       'travel_mode': 'WALKING'},\n",
       "      {'distance': {'text': '0.2 km', 'value': 215},\n",
       "       'duration': {'text': '3 mins', 'value': 172},\n",
       "       'end_location': {'lat': 51.3488663, 'lng': 8.2811001},\n",
       "       'html_instructions': 'Turn <b>left</b> onto <b>Le-Puy-Straße</b>',\n",
       "       'maneuver': 'turn-left',\n",
       "       'polyline': {'points': 'gdlxHcyoq@?CDa@j@sG@I@M`@qF@S'},\n",
       "       'start_location': {'lat': 51.3493225, 'lng': 8.278096099999999},\n",
       "       'travel_mode': 'WALKING'},\n",
       "      {'distance': {'text': '0.1 km', 'value': 113},\n",
       "       'duration': {'text': '2 mins', 'value': 97},\n",
       "       'end_location': {'lat': 51.34982429999999, 'lng': 8.2810183},\n",
       "       'html_instructions': 'Turn <b>left</b> toward <b>Lagerstraße</b>',\n",
       "       'maneuver': 'turn-left',\n",
       "       'polyline': {'points': 'malxH{kpq@UWc@OM?I?o@T{@`@'},\n",
       "       'start_location': {'lat': 51.3488663, 'lng': 8.2811001},\n",
       "       'travel_mode': 'WALKING'},\n",
       "      {'distance': {'text': '12 m', 'value': 12},\n",
       "       'duration': {'text': '1 min', 'value': 10},\n",
       "       'end_location': {'lat': 51.349822, 'lng': 8.281189},\n",
       "       'html_instructions': 'Turn <b>right</b> onto <b>Lagerstraße</b>',\n",
       "       'maneuver': 'turn-right',\n",
       "       'polyline': {'points': 'kglxHkkpq@?a@'},\n",
       "       'start_location': {'lat': 51.34982429999999, 'lng': 8.2810183},\n",
       "       'travel_mode': 'WALKING'},\n",
       "      {'distance': {'text': '12 m', 'value': 12},\n",
       "       'duration': {'text': '1 min', 'value': 11},\n",
       "       'end_location': {'lat': 51.3499241, 'lng': 8.2811214},\n",
       "       'html_instructions': 'Turn <b>left</b> onto <b>Warsteiner Str.</b>',\n",
       "       'maneuver': 'turn-left',\n",
       "       'polyline': {'points': 'kglxHmlpq@SL'},\n",
       "       'start_location': {'lat': 51.349822, 'lng': 8.281189},\n",
       "       'travel_mode': 'WALKING'},\n",
       "      {'distance': {'text': '62 m', 'value': 62},\n",
       "       'duration': {'text': '1 min', 'value': 73},\n",
       "       'end_location': {'lat': 51.3504559, 'lng': 8.2813686},\n",
       "       'html_instructions': 'Turn <b>right</b> onto <b>Hardtstraße</b>',\n",
       "       'maneuver': 'turn-right',\n",
       "       'polyline': {'points': '_hlxH_lpq@a@[MEEAGAO?EAICME'},\n",
       "       'start_location': {'lat': 51.3499241, 'lng': 8.2811214},\n",
       "       'travel_mode': 'WALKING'},\n",
       "      {'distance': {'text': '0.1 km', 'value': 140},\n",
       "       'duration': {'text': '2 mins', 'value': 126},\n",
       "       'end_location': {'lat': 51.3501468, 'lng': 8.2833122},\n",
       "       'html_instructions': 'Turn <b>right</b> onto <b>Karolingerstraße</b><div style=\"font-size:0.9em\">Destination will be on the left</div>',\n",
       "       'maneuver': 'turn-right',\n",
       "       'polyline': {'points': 'kklxHqmpq@Ls@DWF]NaAB_@@WDc@@M?G@M?_@@I?k@?A'},\n",
       "       'start_location': {'lat': 51.3504559, 'lng': 8.2813686},\n",
       "       'travel_mode': 'WALKING'}],\n",
       "     'travel_mode': 'WALKING'}],\n",
       "   'traffic_speed_entry': [],\n",
       "   'via_waypoint': []}],\n",
       " 'overview_polyline': {'points': 'ivstHw}hj@fCiEaDxNyMnn@qZx|Bea@pvCgTd{AkSbv@wQf_@ce@|k@me@|p@{q@lgAemB|}Cs|AreCusA~vBea@zd@uYtTc[|Kgl@dAgkBd@{_As@uS{B_bAg\\\\qjBqfAifCmbBwKpAsUjg@{HdLaJ~Eia@tAyJq@wNkJoWkQaJ{OcPo`@KcLdEc]`G}IjX_YpPiVrBc_BbAyY_BgQaHa_@qHmNoj@gf@mHwNmEySuCw`@qLaT_h@ga@qPaMkLaCsQfEgTjO_JdEwG?kPuIgTwC{qBqAkg@Yci@nAqcB`RibClXux@xHs_@dEgNrAyRsA{UcBk]mBuPq@iZvBwwBlXmV`FaPjI{r@~`@kNhBif@wGw`AkPm}@_NoeBaI_]vAqgB`i@qw@bTqYkBe[aS}Wi]aKkRsG}m@Rau@gPaiBmE}PgLaTqTqYeRaa@}a@wuAySap@gSyl@_Gu`@_CobAeF}Yk\\\\ik@cDi\\\\nCkr@bA}YyAo]wDwRiNyRqRwe@sEmf@i@gi@}Gkb@qYc_A{~@g_EqGwWiFme@gH{mA{BuZ_Lkn@wWwvAwZy_BmYmfBuBgeARor@uEwi@}Sej@_G__@o@w`@yEof@eGoQqJcMcGeEiM_CkLr@q[rG_S{B}QgNiI}LcQa]eNy[ya@slBqw@emEu}@ioE}XunAgSi[kO_IkF}BsMiC_ArBkPAmVXeTdG_j@rEuQ~DiKtIcSzToMCkHmFyMkMqLuFwc@iAyMeCsWsPuRi`@wF}Ug@u}@cAol@cTqs@sHy\\\\_B{_@|IelAoBup@mP_i@qt@klAwi@m~@eTkP{Z_QiKqLwHyTkK}q@a]mpEkIwv@}Pss@ikAc~D_c@w~AsC{VkAmnAe@s`AbEgi@rSw}@fCyp@V_uBu@g|@tDcl@jA{p@_z@s`HgjAw}Iih@yzD_E{_@p@wZxLu_@lIcIhOwDtUc@ja@nObOxD|He@t\\\\}UdK}PrG{SxOgmAxRou@bKeQbLqJ~LgEda@m@vUq@bRiFv[sZlQ{c@nx@wqDtNam@xUyf@`Lyf@xFaf@pb@}aBvq@c`BvW}d@xBgVoTqcBjCq`@dFaMvX{[fMkQ`JwUnKm_AdEqe@vIcXv\\\\is@rCcXcGwZoKaIuVoDaLoPmBiO|Dka@jXonAbIkQvJoFte@]fGkFrJoRnDsE|HcBlZyCzWeCfa@kj@pd@_r@vb@cfAnMu`@v@sSgA_wAjDgrAiCwNyHkM{LaSeDoO^gg@zM_r@wBizAdAcPbC}XnAqCpBqQqECkBq@x@uGBmB'},\n",
       " 'summary': '',\n",
       " 'warnings': ['Walking directions are in beta. Use caution – This route may be missing sidewalks or pedestrian paths.'],\n",
       " 'waypoint_order': []}"
      ]
     },
     "execution_count": 401,
     "metadata": {},
     "output_type": "execute_result"
    }
   ],
   "source": [
    "my_routes[0][0]"
   ]
  },
  {
   "cell_type": "code",
   "execution_count": 410,
   "id": "e2c218ea",
   "metadata": {
    "scrolled": true
   },
   "outputs": [
    {
     "data": {
      "text/plain": [
       "array([['2 hours 52 mins', '2 hours 33 mins', '12:23PM', '11:48AM'],\n",
       "       ['2 hours 55 mins', '2 hours 22 mins', '12:26PM', '11:37AM'],\n",
       "       ['2 hours 39 mins', '2 hours 37 mins', '11:53AM', '12:28PM'],\n",
       "       ['2 hours 58 mins', '2 hours 35 mins', '12:00PM', '11:44AM'],\n",
       "       ['2 hours 44 mins', '2 hours 22 mins', '11:59AM', '12:59PM']],\n",
       "      dtype='<U15')"
      ]
     },
     "execution_count": 410,
     "metadata": {},
     "output_type": "execute_result"
    }
   ],
   "source": [
    "durations = np.array([[my_routes[i][0][\"legs\"][0][\"duration\"][\"text\"], \n",
    "           friends_routes[i][0][\"legs\"][0][\"duration\"][\"text\"], \n",
    "           my_routes[i][0][\"legs\"][-1][\"arrival_time\"][\"text\"].encode(\"ascii\",\"ignore\").decode(),\n",
    "           friends_routes[i][0][\"legs\"][-1][\"arrival_time\"][\"text\"].encode(\"ascii\",\"ignore\").decode()] \n",
    "        for i in range(num_res)])\n",
    "durations"
   ]
  },
  {
   "cell_type": "markdown",
   "id": "7e71f92b",
   "metadata": {},
   "source": [
    "**Note**: how even when durations are similar, arrival times can differ extremely! (see 'limitations' above). We now choose the best route by earliest arrival time."
   ]
  },
  {
   "cell_type": "code",
   "execution_count": 404,
   "id": "2f68da04",
   "metadata": {},
   "outputs": [
    {
     "data": {
      "text/plain": [
       "(3, 'Stiftstraße 8, 59494 Soest, Germany')"
      ]
     },
     "execution_count": 404,
     "metadata": {},
     "output_type": "execute_result"
    }
   ],
   "source": [
    "arrival_times = np.array([[my_routes[i][0][\"legs\"][-1][\"arrival_time\"][\"value\"], \n",
    "                           friends_routes[i][0][\"legs\"][-1][\"arrival_time\"][\"value\"]] for i in range(num_res)])\n",
    "idx_best = np.argmin(np.max(arrival_times,axis=1))\n",
    "loc_best = locs_best[idx_best]; addr_best = addrs_best[idx_best]\n",
    "my_route = my_routes[idx_best]; friends_route = friends_routes[idx_best]\n",
    "idx_best, addr_best"
   ]
  },
  {
   "cell_type": "code",
   "execution_count": 405,
   "id": "d87164cd",
   "metadata": {},
   "outputs": [],
   "source": [
    "def route_steps(route):\n",
    "    res = []\n",
    "    for step in route[\"steps\"]:\n",
    "        if \"transit_details\" in step:\n",
    "            d = step[\"transit_details\"]\n",
    "            line = d[\"line\"][\"name\"] if \"name\" in d[\"line\"] else d[\"line\"][\"short_name\"]\n",
    "            t1 = d[\"departure_time\"][\"text\"].encode(\"ascii\",\"ignore\").decode()\n",
    "            t2 = d[\"arrival_time\"][\"text\"].encode(\"ascii\",\"ignore\").decode()\n",
    "            res.append(f'Take the {line} ({d[\"headsign\"]}) at {t1} to {d[\"arrival_stop\"][\"name\"]}, arrive {t2}')\n",
    "        else: \n",
    "            res.append(step[\"html_instructions\"])\n",
    "            \n",
    "    return res"
   ]
  },
  {
   "cell_type": "code",
   "execution_count": 413,
   "id": "48edaf13",
   "metadata": {
    "scrolled": false
   },
   "outputs": [
    {
     "data": {
      "text/plain": [
       "('2023-11-25T09:00:00',\n",
       " ['Walk to Bonn Hbf',\n",
       "  'Take the RE5 (Oberhausen Hbf) at 9:04AM to Düsseldorf, arrive 10:01AM',\n",
       "  'Walk to Düsseldorf',\n",
       "  'Take the RE13 (Hamm (Westf), Hauptbahnhof) at 10:12AM to Holzwickede, arrive 11:13AM',\n",
       "  'Walk to Holzwickede',\n",
       "  'Take the RB59 (Soest, Bahnhof) at 11:24AM to Bahnhof Soest, arrive 11:52AM',\n",
       "  'Walk to Stiftstraße 8, 59494 Soest, Germany'],\n",
       " ['Take the RB85 (Paderborn Hbf) at 9:10AM to Paderborn Hbf, arrive 11:05AM',\n",
       "  'Walk to Paderborn Hbf',\n",
       "  'Take the RE11 (Düsseldorf Hbf) at 11:11AM to Bahnhof Soest, arrive 11:36AM',\n",
       "  'Walk to Stiftstraße 8, 59494 Soest, Germany'],\n",
       " ['2 hours 58 mins', '2 hours 35 mins', '12:00PM', '11:44AM'])"
      ]
     },
     "execution_count": 413,
     "metadata": {},
     "output_type": "execute_result"
    }
   ],
   "source": [
    "(time_start.isoformat(), route_steps(my_route[0][\"legs\"][0]), route_steps(friends_route[0][\"legs\"][0]),list(durations[idx_best]))"
   ]
  },
  {
   "cell_type": "code",
   "execution_count": 407,
   "id": "7213530f",
   "metadata": {
    "scrolled": true
   },
   "outputs": [
    {
     "data": {
      "application/vnd.jupyter.widget-view+json": {
       "model_id": "fd657a42512f4886aa65879f0ae22c6c",
       "version_major": 2,
       "version_minor": 0
      },
      "text/plain": [
       "Figure(layout=FigureLayout(height='420px'))"
      ]
     },
     "metadata": {},
     "output_type": "display_data"
    }
   ],
   "source": [
    "fig = gmaps.figure()\n",
    "fig.add_layer(gmaps.marker_layer([loc1,loc2,loc_best]))\n",
    "# TODO: plot my_route and friends_route - they might differ from gmaps.directions.Diretions\n",
    "fig.add_layer(gmaps.directions.Directions(loc1, loc_best, travel_mode='TRANSIT'))\n",
    "fig.add_layer(gmaps.directions.Directions(loc2, loc_best, travel_mode='TRANSIT'))\n",
    "fig"
   ]
  },
  {
   "cell_type": "code",
   "execution_count": null,
   "id": "682223dc",
   "metadata": {},
   "outputs": [],
   "source": []
  },
  {
   "cell_type": "code",
   "execution_count": null,
   "id": "bd2054d9",
   "metadata": {},
   "outputs": [],
   "source": []
  },
  {
   "cell_type": "code",
   "execution_count": null,
   "id": "fc134e7a",
   "metadata": {},
   "outputs": [],
   "source": []
  }
 ],
 "metadata": {
  "kernelspec": {
   "display_name": "Python 3 (ipykernel)",
   "language": "python",
   "name": "python3"
  },
  "language_info": {
   "codemirror_mode": {
    "name": "ipython",
    "version": 3
   },
   "file_extension": ".py",
   "mimetype": "text/x-python",
   "name": "python",
   "nbconvert_exporter": "python",
   "pygments_lexer": "ipython3",
   "version": "3.9.12"
  }
 },
 "nbformat": 4,
 "nbformat_minor": 5
}
